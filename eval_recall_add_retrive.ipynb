{
 "cells": [
  {
   "cell_type": "code",
   "execution_count": 1,
   "id": "9a5d8282-fcd9-48b1-9654-8ae468a40dc3",
   "metadata": {
    "tags": []
   },
   "outputs": [
    {
     "name": "stdout",
     "output_type": "stream",
     "text": [
      "tokenizers.__version__: 0.13.3\n",
      "transformers.__version__: 4.32.0\n"
     ]
    },
    {
     "name": "stderr",
     "output_type": "stream",
     "text": [
      "Found cached dataset parquet (/root/.cache/huggingface/datasets/parquet/default-8fbfeb4bcfeca33a/0.0.0/2a3b91fbd88a2c90d1dbbb32b460cf621d31bd5b05b934492fdef7d8d6f236ec)\n"
     ]
    }
   ],
   "source": [
    "TOP_K = 5\n",
    "N_RECALLS = 10\n",
    "MAX_SEQ_LEN = 512\n",
    "\n",
    "\n",
    "MODEL_NAME = \"output_simcse_model\"\n",
    "\n",
    "import warnings\n",
    "warnings.simplefilter('ignore')\n",
    "\n",
    "import os\n",
    "import re\n",
    "import gc\n",
    "import sys\n",
    "import multiprocessing\n",
    "\n",
    "import numpy as np\n",
    "import pandas as pd\n",
    "pd.set_option('display.max_columns', None)\n",
    "from tqdm.auto import tqdm\n",
    "from copy import deepcopy\n",
    "import torch\n",
    "import blingfire as bf\n",
    "from sentence_transformers import SentenceTransformer\n",
    "from sentence_transformers import util\n",
    "import tokenizers\n",
    "import transformers\n",
    "print(f\"tokenizers.__version__: {tokenizers.__version__}\")\n",
    "print(f\"transformers.__version__: {transformers.__version__}\")\n",
    "from transformers import AutoTokenizer, AutoModel, AutoConfig\n",
    "import torch.nn as nn\n",
    "from torch.nn import Parameter\n",
    "import torch.nn.functional as F\n",
    "from torch.optim import Adam, SGD, AdamW\n",
    "from torch.optim import lr_scheduler\n",
    "from torch.utils.data import DataLoader, Dataset\n",
    "from transformers import get_cosine_schedule_with_warmup, DataCollatorWithPadding\n",
    "from sklearn.model_selection import train_test_split\n",
    "from datasets import load_dataset\n",
    "from pathlib import Path\n",
    "from glob import glob\n",
    "# 加载数据\n",
    "\n",
    "DATA_DIR = './learning-equality-curriculum-recommendations'\n",
    "\n",
    "\n",
    "def read_csv(file_path):\n",
    "    df = pd.read_csv(file_path)\n",
    "    if 'id' in df.columns:\n",
    "        df  = df.drop(columns=\"id\")\n",
    "    return df\n",
    "\n",
    "# 验证集 topic_id\n",
    "final_name = './external_train_data/stem_dataset_gpt4.csv'\n",
    "\n",
    "df_train = pd.concat([\n",
    "    read_csv(i) for i in glob('./external_train_data/*') if 'stem_dataset_gpt4'  in i  or \\\n",
    "                                                          'stem_dataset.csv' in i or \\\n",
    "                                                          '15k_gpt3.5-turbo.csv' in i\n",
    "])\n",
    "df_train['is_train'] = 1\n",
    "df_eval = read_csv('train.csv')\n",
    "df_eval['is_train'] = 0\n",
    "df_train = pd.concat([df_train, df_eval])\n",
    "# df = pd.read_csv('retrive_dataset.csv')\n",
    "# dev_ids = np.load('dev_id.npy',allow_pickle=True)\n",
    "# dev_df =  df[df['url'].isin(dev_ids)]\n",
    "dev_df = df_train.copy()\n",
    "dev_df.reset_index(drop=True, inplace=True)\n",
    "final_res = deepcopy(dev_df)\n",
    "files = list(map(str, Path(\"./wiki_sci\").glob(\"*.parquet\")))\n",
    "ds = load_dataset(\"parquet\", data_files=files, split=\"train\")\n",
    "content_df = pd.DataFrame(ds)\n",
    "# 加载预训练模型\n",
    "\n",
    "# ====================================================\n",
    "# Model\n",
    "# ====================================================\n",
    "class MeanPooling(nn.Module):\n",
    "    def __init__(self):\n",
    "        super(MeanPooling, self).__init__()\n",
    "\n",
    "    def forward(self, last_hidden_state, attention_mask):\n",
    "        input_mask_expanded = attention_mask.unsqueeze(-1).expand(last_hidden_state.size()).float()\n",
    "        sum_embeddings = torch.sum(last_hidden_state * input_mask_expanded, 1)\n",
    "        sum_mask = input_mask_expanded.sum(1)\n",
    "        sum_mask = torch.clamp(sum_mask, min=1e-9)\n",
    "        mean_embeddings = sum_embeddings / sum_mask\n",
    "        return mean_embeddings\n",
    "\n",
    "class WeightedLayerPooling(nn.Module):\n",
    "    def __init__(self, num_hidden_layers, layer_start: int = 4, layer_weights=None):\n",
    "        super(WeightedLayerPooling, self).__init__()\n",
    "        self.layer_start = layer_start\n",
    "        self.num_hidden_layers = num_hidden_layers\n",
    "        self.layer_weights = layer_weights if layer_weights is not None \\\n",
    "            else nn.Parameter(\n",
    "            torch.tensor([1] * (num_hidden_layers + 1 - layer_start), dtype=torch.float)\n",
    "        )\n",
    "\n",
    "    def forward(self, all_hidden_states):\n",
    "        all_layer_embedding = all_hidden_states[self.layer_start:, :, :, :]\n",
    "        weight_factor = self.layer_weights.unsqueeze(-1).unsqueeze(-1).unsqueeze(-1).expand(all_layer_embedding.size())\n",
    "        weighted_average = (weight_factor * all_layer_embedding).sum(dim=0) / self.layer_weights.sum()\n",
    "        return weighted_average\n",
    "\n",
    "class CustomModel(nn.Module):\n",
    "    def __init__(self, cfg, config_path=None, pretrained=False):\n",
    "        super().__init__()\n",
    "        self.cfg = cfg\n",
    "        if config_path is None:\n",
    "            self.config = AutoConfig.from_pretrained(cfg.model, output_hidden_states=True)\n",
    "            # self.config.hidden_dropout = 0.\n",
    "            # self.config.hidden_dropout_prob = 0.\n",
    "            # self.config.attention_dropout = 0.\n",
    "            # self.config.attention_probs_dropout_prob = 0.\n",
    "        else:\n",
    "            self.config = torch.load(config_path)\n",
    "\n",
    "        if pretrained:\n",
    "            self.model = AutoModel.from_pretrained(cfg.model, config=self.config)\n",
    "        else:\n",
    "            self.model = AutoModel.from_config(self.config)\n",
    "        # if self.cfg.gradient_checkpointing:\n",
    "        #     self.model.gradient_checkpointing_enable\n",
    "\n",
    "        self.pool = MeanPooling()\n",
    "        self.fc_dropout = nn.Dropout(0.1)\n",
    "        self.fc = nn.Linear(self.config.hidden_size, 1)\n",
    "        self._init_weights(self.fc)\n",
    "\n",
    "    def _init_weights(self, module):\n",
    "        if isinstance(module, nn.Linear):\n",
    "            module.weight.data.normal_(mean=0.0, std=self.config.initializer_range)\n",
    "            if module.bias is not None:\n",
    "                module.bias.data.zero_()\n",
    "        elif isinstance(module, nn.Embedding):\n",
    "            module.weight.data.normal_(mean=0.0, std=self.config.initializer_range)\n",
    "            if module.padding_idx is not None:\n",
    "                module.weight.data[module.padding_idx].zero_()\n",
    "        elif isinstance(module, nn.LayerNorm):\n",
    "            module.bias.data.zero_()\n",
    "            module.weight.data.fill_(1.0)\n",
    "\n",
    "    def forward(self, inputs):\n",
    "        outputs = self.model(**inputs)\n",
    "        last_hidden_states = outputs[0]\n",
    "        feature = self.pool(last_hidden_states, inputs['attention_mask'])\n",
    "        #feature = F.normalize(feature, p=2, dim=1)\n",
    "        return feature\n",
    "\n",
    "    \n",
    "def get_sentences(document):\n",
    "    res = []\n",
    "    _, sentence_offsets = bf.text_to_sentences_and_offsets(document)\n",
    "    for o in sentence_offsets:\n",
    "        if o[1]-o[0] < 20:\n",
    "            continue\n",
    "        sentence = document[o[0]:o[1]]\n",
    "        res.append(sentence)\n",
    "    return res\n",
    "#tokenizer = AutoTokenizer.from_pretrained(MODEL_NAME)\n",
    "model = 'sentence-transformers/all-mpnet-base-v1'\n",
    "tokenizer = AutoTokenizer.from_pretrained(model)\n",
    "\n",
    "model = CustomModel(cfg=None, config_path=MODEL_NAME + '/config.pth', pretrained=False)\n",
    "state = torch.load(MODEL_NAME + '/sentence-transformers-all-mpnet-base-v1_fold0_best.pth',\n",
    "                   map_location=torch.device('cpu'))\n",
    "model.load_state_dict(state['model'])\n",
    "\n",
    "device = torch.device('cuda:1') if torch.cuda.device_count() > 1 else torch.device('cuda:0')\n",
    "model.eval()\n",
    "model.to(device)\n",
    "\n",
    "\n",
    "class TestDataset(Dataset):\n",
    "    def __init__(self, texts):\n",
    "        self.texts = texts\n",
    "\n",
    "    def __len__(self):\n",
    "        return len(self.texts)\n",
    "\n",
    "    def __getitem__(self, item):\n",
    "        text = self.texts[item]\n",
    "        # text = self.texts[item].replace('[SEP]', '</s>')\n",
    "        inputs = tokenizer(text,\n",
    "                           max_length=512,\n",
    "                           pad_to_max_length=True,\n",
    "                           add_special_tokens=True,\n",
    "                           return_offsets_mapping=False)\n",
    "\n",
    "        for k, v in inputs.items():\n",
    "            inputs[k] = torch.tensor(v, dtype=torch.long)\n",
    "        return inputs\n",
    "\n",
    "def get_model_feature(model, texts):\n",
    "    feature_outs_all = []\n",
    "    test_dataset = TestDataset(texts)\n",
    "    test_loader = DataLoader(test_dataset,\n",
    "                             batch_size=128,\n",
    "                             shuffle=False,\n",
    "                             collate_fn=DataCollatorWithPadding(tokenizer=tokenizer, padding='longest'),\n",
    "                             num_workers=0, pin_memory=True, drop_last=False)\n",
    "\n",
    "    # tk0 = tqdm(test_loader, total=len(test_loader))\n",
    "    for inputs in tqdm(test_loader):\n",
    "        for k, v in inputs.items():\n",
    "            inputs[k] = v.to(device)\n",
    "        with torch.no_grad():\n",
    "            feature_outs = model(inputs)\n",
    "            feature_outs_all.append(feature_outs.cpu())\n",
    "\n",
    "    feature_outs_all_final = torch.cat(feature_outs_all, dim=0)\n",
    "    #print(feature_outs_all_final.shape)\n",
    "\n",
    "    return feature_outs_all_final\n"
   ]
  },
  {
   "cell_type": "code",
   "execution_count": 2,
   "id": "dcb2d6bc-6b92-4136-8e57-3831a03506e2",
   "metadata": {
    "tags": []
   },
   "outputs": [],
   "source": [
    "content_df['sentence'] = content_df['text'].apply(lambda x:get_sentences(x))"
   ]
  },
  {
   "cell_type": "code",
   "execution_count": 3,
   "id": "846d758e-9fdf-43da-8554-d2ea09db09a2",
   "metadata": {
    "tags": []
   },
   "outputs": [
    {
     "data": {
      "text/plain": [
       "(4086356, 4)"
      ]
     },
     "execution_count": 3,
     "metadata": {},
     "output_type": "execute_result"
    }
   ],
   "source": [
    "content_df = content_df.explode('sentence')\n",
    "content_df.shape"
   ]
  },
  {
   "cell_type": "code",
   "execution_count": 4,
   "id": "f73ce441-11cd-4be3-8213-4022cf8437f0",
   "metadata": {
    "tags": []
   },
   "outputs": [
    {
     "data": {
      "text/html": [
       "<div>\n",
       "<style scoped>\n",
       "    .dataframe tbody tr th:only-of-type {\n",
       "        vertical-align: middle;\n",
       "    }\n",
       "\n",
       "    .dataframe tbody tr th {\n",
       "        vertical-align: top;\n",
       "    }\n",
       "\n",
       "    .dataframe thead th {\n",
       "        text-align: right;\n",
       "    }\n",
       "</style>\n",
       "<table border=\"1\" class=\"dataframe\">\n",
       "  <thead>\n",
       "    <tr style=\"text-align: right;\">\n",
       "      <th></th>\n",
       "      <th>text</th>\n",
       "      <th>url</th>\n",
       "      <th>title</th>\n",
       "      <th>sentence</th>\n",
       "    </tr>\n",
       "  </thead>\n",
       "  <tbody>\n",
       "    <tr>\n",
       "      <th>0</th>\n",
       "      <td>Stomatin also known as human erythrocyte integ...</td>\n",
       "      <td>https://en.wikipedia.org/wiki/Stomatin</td>\n",
       "      <td>Stomatin</td>\n",
       "      <td>Stomatin also known as human erythrocyte integ...</td>\n",
       "    </tr>\n",
       "    <tr>\n",
       "      <th>1</th>\n",
       "      <td>Stomatin also known as human erythrocyte integ...</td>\n",
       "      <td>https://en.wikipedia.org/wiki/Stomatin</td>\n",
       "      <td>Stomatin</td>\n",
       "      <td>Clinical significance \\n\\nStomatin is a 31 kDa...</td>\n",
       "    </tr>\n",
       "    <tr>\n",
       "      <th>2</th>\n",
       "      <td>Stomatin also known as human erythrocyte integ...</td>\n",
       "      <td>https://en.wikipedia.org/wiki/Stomatin</td>\n",
       "      <td>Stomatin</td>\n",
       "      <td>This gene encodes a member of a highly conserv...</td>\n",
       "    </tr>\n",
       "    <tr>\n",
       "      <th>3</th>\n",
       "      <td>Stomatin also known as human erythrocyte integ...</td>\n",
       "      <td>https://en.wikipedia.org/wiki/Stomatin</td>\n",
       "      <td>Stomatin</td>\n",
       "      <td>The encoded protein localizes to the cell memb...</td>\n",
       "    </tr>\n",
       "    <tr>\n",
       "      <th>4</th>\n",
       "      <td>Stomatin also known as human erythrocyte integ...</td>\n",
       "      <td>https://en.wikipedia.org/wiki/Stomatin</td>\n",
       "      <td>Stomatin</td>\n",
       "      <td>Loss of localization of the encoded protein is...</td>\n",
       "    </tr>\n",
       "    <tr>\n",
       "      <th>...</th>\n",
       "      <td>...</td>\n",
       "      <td>...</td>\n",
       "      <td>...</td>\n",
       "      <td>...</td>\n",
       "    </tr>\n",
       "    <tr>\n",
       "      <th>4086351</th>\n",
       "      <td>Active rectification, or synchronous rectifica...</td>\n",
       "      <td>https://en.wikipedia.org/wiki/Active%20rectifi...</td>\n",
       "      <td>Active rectification</td>\n",
       "      <td>IEE Proceedings - Electric Power Applications,...</td>\n",
       "    </tr>\n",
       "    <tr>\n",
       "      <th>4086352</th>\n",
       "      <td>Active rectification, or synchronous rectifica...</td>\n",
       "      <td>https://en.wikipedia.org/wiki/Active%20rectifi...</td>\n",
       "      <td>Active rectification</td>\n",
       "      <td>Digital Object Identifier:10.1049/ip-epa:19990...</td>\n",
       "    </tr>\n",
       "    <tr>\n",
       "      <th>4086353</th>\n",
       "      <td>Active rectification, or synchronous rectifica...</td>\n",
       "      <td>https://en.wikipedia.org/wiki/Active%20rectifi...</td>\n",
       "      <td>Active rectification</td>\n",
       "      <td>Santiago, A. Birchenough. (2005).</td>\n",
       "    </tr>\n",
       "    <tr>\n",
       "      <th>4086354</th>\n",
       "      <td>Active rectification, or synchronous rectifica...</td>\n",
       "      <td>https://en.wikipedia.org/wiki/Active%20rectifi...</td>\n",
       "      <td>Active rectification</td>\n",
       "      <td>Single Phase Passive Rectification versus Acti...</td>\n",
       "    </tr>\n",
       "    <tr>\n",
       "      <th>4086355</th>\n",
       "      <td>Active rectification, or synchronous rectifica...</td>\n",
       "      <td>https://en.wikipedia.org/wiki/Active%20rectifi...</td>\n",
       "      <td>Active rectification</td>\n",
       "      <td>Rectifiers\\n\\nde:Gleichrichter#Synchrongleichr...</td>\n",
       "    </tr>\n",
       "  </tbody>\n",
       "</table>\n",
       "<p>4086356 rows × 4 columns</p>\n",
       "</div>"
      ],
      "text/plain": [
       "                                                      text  \\\n",
       "0        Stomatin also known as human erythrocyte integ...   \n",
       "1        Stomatin also known as human erythrocyte integ...   \n",
       "2        Stomatin also known as human erythrocyte integ...   \n",
       "3        Stomatin also known as human erythrocyte integ...   \n",
       "4        Stomatin also known as human erythrocyte integ...   \n",
       "...                                                    ...   \n",
       "4086351  Active rectification, or synchronous rectifica...   \n",
       "4086352  Active rectification, or synchronous rectifica...   \n",
       "4086353  Active rectification, or synchronous rectifica...   \n",
       "4086354  Active rectification, or synchronous rectifica...   \n",
       "4086355  Active rectification, or synchronous rectifica...   \n",
       "\n",
       "                                                       url  \\\n",
       "0                   https://en.wikipedia.org/wiki/Stomatin   \n",
       "1                   https://en.wikipedia.org/wiki/Stomatin   \n",
       "2                   https://en.wikipedia.org/wiki/Stomatin   \n",
       "3                   https://en.wikipedia.org/wiki/Stomatin   \n",
       "4                   https://en.wikipedia.org/wiki/Stomatin   \n",
       "...                                                    ...   \n",
       "4086351  https://en.wikipedia.org/wiki/Active%20rectifi...   \n",
       "4086352  https://en.wikipedia.org/wiki/Active%20rectifi...   \n",
       "4086353  https://en.wikipedia.org/wiki/Active%20rectifi...   \n",
       "4086354  https://en.wikipedia.org/wiki/Active%20rectifi...   \n",
       "4086355  https://en.wikipedia.org/wiki/Active%20rectifi...   \n",
       "\n",
       "                        title  \\\n",
       "0                    Stomatin   \n",
       "1                    Stomatin   \n",
       "2                    Stomatin   \n",
       "3                    Stomatin   \n",
       "4                    Stomatin   \n",
       "...                       ...   \n",
       "4086351  Active rectification   \n",
       "4086352  Active rectification   \n",
       "4086353  Active rectification   \n",
       "4086354  Active rectification   \n",
       "4086355  Active rectification   \n",
       "\n",
       "                                                  sentence  \n",
       "0        Stomatin also known as human erythrocyte integ...  \n",
       "1        Clinical significance \\n\\nStomatin is a 31 kDa...  \n",
       "2        This gene encodes a member of a highly conserv...  \n",
       "3        The encoded protein localizes to the cell memb...  \n",
       "4        Loss of localization of the encoded protein is...  \n",
       "...                                                    ...  \n",
       "4086351  IEE Proceedings - Electric Power Applications,...  \n",
       "4086352  Digital Object Identifier:10.1049/ip-epa:19990...  \n",
       "4086353                  Santiago, A. Birchenough. (2005).  \n",
       "4086354  Single Phase Passive Rectification versus Acti...  \n",
       "4086355  Rectifiers\\n\\nde:Gleichrichter#Synchrongleichr...  \n",
       "\n",
       "[4086356 rows x 4 columns]"
      ]
     },
     "execution_count": 4,
     "metadata": {},
     "output_type": "execute_result"
    }
   ],
   "source": [
    "content_df.reset_index(drop=True, inplace=True)\n",
    "content_df"
   ]
  },
  {
   "cell_type": "code",
   "execution_count": 5,
   "id": "fdffb0b1-a22a-4785-8402-eee3dfdafd57",
   "metadata": {
    "tags": []
   },
   "outputs": [
    {
     "name": "stderr",
     "output_type": "stream",
     "text": [
      "  0%|          | 0/439 [00:00<?, ?it/s]Truncation was not explicitly activated but `max_length` is provided a specific value, please use `truncation=True` to explicitly truncate examples to max length. Defaulting to 'longest_first' truncation strategy. If you encode pairs of sequences (GLUE-style) with the tokenizer you can select this strategy more precisely by providing a specific strategy to `truncation`.\n",
      "You're using a MPNetTokenizerFast tokenizer. Please note that with a fast tokenizer, using the `__call__` method is faster than using a method to encode the text followed by a call to the `pad` method to get a padded encoding.\n",
      "100%|██████████| 439/439 [07:28<00:00,  1.02s/it]"
     ]
    },
    {
     "name": "stdout",
     "output_type": "stream",
     "text": [
      "question embedding done\n",
      "torch.Size([56095, 768])\n"
     ]
    },
    {
     "name": "stderr",
     "output_type": "stream",
     "text": [
      "\n"
     ]
    }
   ],
   "source": [
    "topic_embedding_list = get_model_feature(model, dev_df['prompt'].values)\n",
    "print('question embedding done')\n",
    "print(topic_embedding_list.shape)"
   ]
  },
  {
   "cell_type": "code",
   "execution_count": 6,
   "id": "0662018e-455d-4069-bd67-2d4ce8bd70da",
   "metadata": {
    "tags": []
   },
   "outputs": [
    {
     "name": "stderr",
     "output_type": "stream",
     "text": [
      "100%|██████████| 31925/31925 [9:08:47<00:00,  1.03s/it]  \n"
     ]
    },
    {
     "name": "stdout",
     "output_type": "stream",
     "text": [
      "content embedding done\n",
      "torch.Size([4086356, 768])\n"
     ]
    }
   ],
   "source": [
    "corpus_embeddings = get_model_feature(model, content_df['sentence'].values)\n",
    "print('content embedding done')\n",
    "print(corpus_embeddings.shape)"
   ]
  },
  {
   "cell_type": "code",
   "execution_count": 66,
   "id": "54369dd7-30d9-4d49-bf56-7148958a42a9",
   "metadata": {
    "tags": []
   },
   "outputs": [],
   "source": [
    "#corpus_embeddings = torch.as_tensor(np.load('text_embedding.npy')).to('cuda')"
   ]
  },
  {
   "cell_type": "code",
   "execution_count": 7,
   "id": "fa92c48f-e2d2-4c1f-948d-66c943bf02f2",
   "metadata": {
    "tags": []
   },
   "outputs": [],
   "source": [
    "np.save('text_sentence_embedding', corpus_embeddings.cpu().numpy())"
   ]
  },
  {
   "cell_type": "code",
   "execution_count": 8,
   "id": "71518878-df38-4668-83e8-9d467b3d198c",
   "metadata": {
    "tags": []
   },
   "outputs": [],
   "source": [
    "content_df.to_parquet('wiki_sci_text_sentence.parquet')"
   ]
  },
  {
   "cell_type": "code",
   "execution_count": null,
   "id": "e9f3b45a-0a86-4af2-a85b-ef53ac9e7d78",
   "metadata": {
    "scrolled": true,
    "tags": []
   },
   "outputs": [
    {
     "name": "stderr",
     "output_type": "stream",
     "text": [
      " 20%|█▉        | 11179/56095 [6:32:07<26:18:05,  2.11s/it]"
     ]
    }
   ],
   "source": [
    "N_RECALLS= 100\n",
    "pred_final = []\n",
    "pred_text = []\n",
    "for idx, row in tqdm(dev_df.iterrows(), total=len(dev_df)):\n",
    "\n",
    "    query_embedding = topic_embedding_list[idx, :]\n",
    "\n",
    "    cos_scores = util.cos_sim(query_embedding, corpus_embeddings)[0]\n",
    "    top_k = min([N_RECALLS, len(corpus_embeddings)])\n",
    "    top_results = torch.topk(cos_scores, k=top_k)\n",
    "    #print(top_results)\n",
    "    indics = top_results[1].cpu().numpy()\n",
    "\n",
    "    # threshold = 0.8\n",
    "    # score_top = top_results[0].cpu().numpy()\n",
    "    # in_use = np.where(score_top > threshold)\n",
    "    # indics = indics[in_use]\n",
    "\n",
    "    #pid = content_dict[lang]['id'][indics]\n",
    "    pid = content_df['url'][indics]\n",
    "    pred_final.append(' '.join(pid))\n",
    "    \n",
    "    pid = content_df['sentence'][indics]\n",
    "    pred_text.append('<recall_wiki_text>'.join(pid))\n",
    "\n",
    "dev_df['recall_ids'] = pred_final\n",
    "dev_df['recall_text'] = pred_text\n"
   ]
  },
  {
   "cell_type": "code",
   "execution_count": 4,
   "id": "0263b4fc-913a-403a-83aa-3538ca6bb47f",
   "metadata": {
    "tags": []
   },
   "outputs": [],
   "source": [
    "prompt_values = dev_df['prompt'].values.tolist()"
   ]
  },
  {
   "cell_type": "code",
   "execution_count": 5,
   "id": "62741e96-fb26-49d9-b2dd-17b3f93734bb",
   "metadata": {
    "tags": []
   },
   "outputs": [
    {
     "data": {
      "text/plain": [
       "35895"
      ]
     },
     "execution_count": 5,
     "metadata": {},
     "output_type": "execute_result"
    }
   ],
   "source": [
    "len(dev_df)"
   ]
  },
  {
   "cell_type": "code",
   "execution_count": 6,
   "id": "a94c14be-fabb-465f-a21a-040ab08fcea0",
   "metadata": {
    "tags": []
   },
   "outputs": [],
   "source": [
    "# 算分环节\n",
    "dev_df['recall_ids'] = pred_final\n",
    "# df_metric = dev_df.copy()\n",
    "# df_metric['content_ids'] = df_metric['url']"
   ]
  },
  {
   "cell_type": "code",
   "execution_count": 7,
   "id": "21936112-a486-427a-8379-50e09807ff82",
   "metadata": {
    "tags": []
   },
   "outputs": [],
   "source": [
    "# def get_pos_score(y_true, y_pred, top_n):\n",
    "#     y_true = y_true.apply(lambda x: set(x.split()))\n",
    "#     y_pred = y_pred.apply(lambda x: set(x.split()[:top_n]))\n",
    "#     int_true = np.array([len(x[0] & x[1]) / len(x[0]) for x in zip(y_true, y_pred)])\n",
    "#     return round(np.mean(int_true), 5)\n",
    "\n",
    "# pos_score = get_pos_score(df_metric['content_ids'], df_metric['recall_ids'], 50)\n",
    "# print(f'Our max positive score top 50 is {pos_score}')\n",
    "\n",
    "# pos_score = get_pos_score(df_metric['content_ids'], df_metric['recall_ids'], 70)\n",
    "# print(f'Our max positive score top 70 is {pos_score}')\n",
    "\n",
    "# pos_score = get_pos_score(df_metric['content_ids'], df_metric['recall_ids'], 100)\n",
    "# print(f'Our max positive score top 100 is {pos_score}')\n",
    "\n",
    "# pos_score = get_pos_score(df_metric['content_ids'], df_metric['recall_ids'], 150)\n",
    "# print(f'Our max positive score top 150 is {pos_score}')\n",
    "\n",
    "# pos_score = get_pos_score(df_metric['content_ids'], df_metric['recall_ids'], 200)\n",
    "# print(f'Our max positive score top 200 is {pos_score}')\n",
    "\n",
    "# df_metric['content_ids'] = df_metric['content_ids'].astype(str).apply(lambda x: x.split())\n",
    "# df_metric['recall_ids'] = df_metric['recall_ids'].astype(str).apply(lambda x: x.split())\n",
    "# f2_scores = []\n",
    "\n",
    "# N_RECALLS = [3, 5, 10, 30, 50, 100, 200, 300, 400, 500, 600]\n",
    "# N_TOP_F2 = [5, 10, 15]\n",
    "# # for n_top in N_TOP_F2:\n",
    "# #     for _, row in tqdm(df_metric.iterrows(), total=len(df_metric)):\n",
    "# #         true_ids = set(row['content_ids'])\n",
    "# #         pred_ids = set(row['recall_ids'][:n_top])\n",
    "# #         tp = len(true_ids.intersection(pred_ids))\n",
    "# #         fp = len(pred_ids - true_ids)\n",
    "# #         fn = len(true_ids - pred_ids)\n",
    "# #         if pred_ids:\n",
    "# #             precision = tp / (tp + fp)\n",
    "# #             recall = tp / (tp + fn)\n",
    "# #             f2 = tp / (tp + 0.2 * fp + 0.8 * fn)\n",
    "# #         else:\n",
    "# #             f2 = 0\n",
    "# #         f2_scores.append(f2)\n",
    "# #     print(f'Average F2@{n_top}:', np.mean(f2_scores))\n",
    "# for n_recall in N_RECALLS:\n",
    "#     total = 0\n",
    "#     correct = 0\n",
    "#     for _, row in tqdm(df_metric.iterrows(), total=len(df_metric)):\n",
    "#         y_trues = row['content_ids']\n",
    "#         y_preds = row['recall_ids'][:n_recall]\n",
    "#         for y_true in y_trues:\n",
    "#             total += 1\n",
    "#             if y_true in y_preds:\n",
    "#                 correct += 1\n",
    "#     print(f'hitrate@{n_recall}:', correct/total)"
   ]
  },
  {
   "cell_type": "code",
   "execution_count": 8,
   "id": "aecdca5b-0533-48f0-ba20-b001283be995",
   "metadata": {},
   "outputs": [],
   "source": [
    "def split_long_doc(text):\n",
    "    max_lenth = 128\n",
    "    window_size=16\n",
    "    text_list = [i for i in text.split() if i]\n",
    "    res = []\n",
    "    \n",
    "    i = 0\n",
    "    while i + window_size < len(text_list):\n",
    "        res.append(' '.join(text_list[i:min(i+max_lenth, len(text_list))]))\n",
    "        i += 64\n",
    "    \n",
    "    return res"
   ]
  },
  {
   "cell_type": "code",
   "execution_count": 9,
   "id": "09a9e4b9-1eeb-4270-bf95-29ce833f0364",
   "metadata": {
    "tags": []
   },
   "outputs": [],
   "source": [
    "dev_df['recall_text'] = dev_df['recall_text'].apply(lambda x:x.split('<recall_wiki_text>'))"
   ]
  },
  {
   "cell_type": "code",
   "execution_count": 10,
   "id": "c1da463f-7e2c-4c49-a802-d4688bca819d",
   "metadata": {
    "tags": []
   },
   "outputs": [],
   "source": [
    "dev_df = dev_df.explode('recall_text')"
   ]
  },
  {
   "cell_type": "code",
   "execution_count": 11,
   "id": "1e8a7746-37e9-4f32-b59c-f142f987de52",
   "metadata": {
    "tags": []
   },
   "outputs": [],
   "source": [
    "dev_df['recall_sentence'] = dev_df['recall_text'].apply(lambda x:split_long_doc(x))"
   ]
  },
  {
   "cell_type": "code",
   "execution_count": 12,
   "id": "4bd9db8a-9c1b-49a0-bf84-9666a6b205c1",
   "metadata": {
    "tags": []
   },
   "outputs": [
    {
     "data": {
      "text/html": [
       "<div>\n",
       "<style scoped>\n",
       "    .dataframe tbody tr th:only-of-type {\n",
       "        vertical-align: middle;\n",
       "    }\n",
       "\n",
       "    .dataframe tbody tr th {\n",
       "        vertical-align: top;\n",
       "    }\n",
       "\n",
       "    .dataframe thead th {\n",
       "        text-align: right;\n",
       "    }\n",
       "</style>\n",
       "<table border=\"1\" class=\"dataframe\">\n",
       "  <thead>\n",
       "    <tr style=\"text-align: right;\">\n",
       "      <th></th>\n",
       "      <th>id</th>\n",
       "      <th>prompt</th>\n",
       "      <th>A</th>\n",
       "      <th>B</th>\n",
       "      <th>C</th>\n",
       "      <th>D</th>\n",
       "      <th>E</th>\n",
       "      <th>answer</th>\n",
       "      <th>recall_ids</th>\n",
       "      <th>recall_text</th>\n",
       "      <th>recall_sentence</th>\n",
       "    </tr>\n",
       "  </thead>\n",
       "  <tbody>\n",
       "    <tr>\n",
       "      <th>0</th>\n",
       "      <td>0</td>\n",
       "      <td>What is the molecular weight of the Stomatin p...</td>\n",
       "      <td>Stomatin is a 21 kDa integral membrane protein...</td>\n",
       "      <td>Stomatin is a 31 kDa integral membrane protein...</td>\n",
       "      <td>Stomatin is a 31 kDa integral membrane protein...</td>\n",
       "      <td>Stomatin is a 41 kDa integral membrane protein...</td>\n",
       "      <td>Stomatin is a 31 kDa integral membrane protein...</td>\n",
       "      <td>B</td>\n",
       "      <td>https://en.wikipedia.org/wiki/Stomatin https:/...</td>\n",
       "      <td>Stomatin also known as human erythrocyte integ...</td>\n",
       "      <td>Stomatin also known as human erythrocyte integ...</td>\n",
       "    </tr>\n",
       "    <tr>\n",
       "      <th>0</th>\n",
       "      <td>0</td>\n",
       "      <td>What is the molecular weight of the Stomatin p...</td>\n",
       "      <td>Stomatin is a 21 kDa integral membrane protein...</td>\n",
       "      <td>Stomatin is a 31 kDa integral membrane protein...</td>\n",
       "      <td>Stomatin is a 31 kDa integral membrane protein...</td>\n",
       "      <td>Stomatin is a 41 kDa integral membrane protein...</td>\n",
       "      <td>Stomatin is a 31 kDa integral membrane protein...</td>\n",
       "      <td>B</td>\n",
       "      <td>https://en.wikipedia.org/wiki/Stomatin https:/...</td>\n",
       "      <td>Stomatin also known as human erythrocyte integ...</td>\n",
       "      <td>of red blood cells and other cell types, where...</td>\n",
       "    </tr>\n",
       "    <tr>\n",
       "      <th>0</th>\n",
       "      <td>0</td>\n",
       "      <td>What is the molecular weight of the Stomatin p...</td>\n",
       "      <td>Stomatin is a 21 kDa integral membrane protein...</td>\n",
       "      <td>Stomatin is a 31 kDa integral membrane protein...</td>\n",
       "      <td>Stomatin is a 31 kDa integral membrane protein...</td>\n",
       "      <td>Stomatin is a 41 kDa integral membrane protein...</td>\n",
       "      <td>Stomatin is a 31 kDa integral membrane protein...</td>\n",
       "      <td>B</td>\n",
       "      <td>https://en.wikipedia.org/wiki/Stomatin https:/...</td>\n",
       "      <td>Stomatin also known as human erythrocyte integ...</td>\n",
       "      <td>where it may regulate ion channels and transpo...</td>\n",
       "    </tr>\n",
       "    <tr>\n",
       "      <th>0</th>\n",
       "      <td>0</td>\n",
       "      <td>What is the molecular weight of the Stomatin p...</td>\n",
       "      <td>Stomatin is a 21 kDa integral membrane protein...</td>\n",
       "      <td>Stomatin is a 31 kDa integral membrane protein...</td>\n",
       "      <td>Stomatin is a 31 kDa integral membrane protein...</td>\n",
       "      <td>Stomatin is a 41 kDa integral membrane protein...</td>\n",
       "      <td>Stomatin is a 31 kDa integral membrane protein...</td>\n",
       "      <td>B</td>\n",
       "      <td>https://en.wikipedia.org/wiki/Stomatin https:/...</td>\n",
       "      <td>Stomatin also known as human erythrocyte integ...</td>\n",
       "      <td>suggests a possible structural role for this p...</td>\n",
       "    </tr>\n",
       "    <tr>\n",
       "      <th>0</th>\n",
       "      <td>0</td>\n",
       "      <td>What is the molecular weight of the Stomatin p...</td>\n",
       "      <td>Stomatin is a 21 kDa integral membrane protein...</td>\n",
       "      <td>Stomatin is a 31 kDa integral membrane protein...</td>\n",
       "      <td>Stomatin is a 31 kDa integral membrane protein...</td>\n",
       "      <td>Stomatin is a 41 kDa integral membrane protein...</td>\n",
       "      <td>Stomatin is a 31 kDa integral membrane protein...</td>\n",
       "      <td>B</td>\n",
       "      <td>https://en.wikipedia.org/wiki/Stomatin https:/...</td>\n",
       "      <td>SH3 and cysteine-rich domain-containing protei...</td>\n",
       "      <td>SH3 and cysteine-rich domain-containing protei...</td>\n",
       "    </tr>\n",
       "    <tr>\n",
       "      <th>...</th>\n",
       "      <td>...</td>\n",
       "      <td>...</td>\n",
       "      <td>...</td>\n",
       "      <td>...</td>\n",
       "      <td>...</td>\n",
       "      <td>...</td>\n",
       "      <td>...</td>\n",
       "      <td>...</td>\n",
       "      <td>...</td>\n",
       "      <td>...</td>\n",
       "      <td>...</td>\n",
       "    </tr>\n",
       "    <tr>\n",
       "      <th>35894</th>\n",
       "      <td>35894</td>\n",
       "      <td>In which conditions was the expression of Smr3...</td>\n",
       "      <td>Bacterial growth in TY, minimal medium (MM) an...</td>\n",
       "      <td>Bacterial growth in TY, minimal medium (MM) an...</td>\n",
       "      <td>Bacterial growth in TY and minimal medium (MM)...</td>\n",
       "      <td>Bacterial growth in TY and luteolin-MM broth o...</td>\n",
       "      <td>Bacterial growth in minimal medium (MM) and lu...</td>\n",
       "      <td>A</td>\n",
       "      <td>https://en.wikipedia.org/wiki/%CE%91r35%20RNA ...</td>\n",
       "      <td>Smaug is a RNA-binding protein in Drosophila t...</td>\n",
       "      <td>Smaug is a RNA-binding protein in Drosophila t...</td>\n",
       "    </tr>\n",
       "    <tr>\n",
       "      <th>35894</th>\n",
       "      <td>35894</td>\n",
       "      <td>In which conditions was the expression of Smr3...</td>\n",
       "      <td>Bacterial growth in TY, minimal medium (MM) an...</td>\n",
       "      <td>Bacterial growth in TY, minimal medium (MM) an...</td>\n",
       "      <td>Bacterial growth in TY and minimal medium (MM)...</td>\n",
       "      <td>Bacterial growth in TY and luteolin-MM broth o...</td>\n",
       "      <td>Bacterial growth in minimal medium (MM) and lu...</td>\n",
       "      <td>A</td>\n",
       "      <td>https://en.wikipedia.org/wiki/%CE%91r35%20RNA ...</td>\n",
       "      <td>Smaug is a RNA-binding protein in Drosophila t...</td>\n",
       "      <td>by maternal mRNAs like Hsp83, nanos, string, P...</td>\n",
       "    </tr>\n",
       "    <tr>\n",
       "      <th>35894</th>\n",
       "      <td>35894</td>\n",
       "      <td>In which conditions was the expression of Smr3...</td>\n",
       "      <td>Bacterial growth in TY, minimal medium (MM) an...</td>\n",
       "      <td>Bacterial growth in TY, minimal medium (MM) an...</td>\n",
       "      <td>Bacterial growth in TY and minimal medium (MM)...</td>\n",
       "      <td>Bacterial growth in TY and luteolin-MM broth o...</td>\n",
       "      <td>Bacterial growth in minimal medium (MM) and lu...</td>\n",
       "      <td>A</td>\n",
       "      <td>https://en.wikipedia.org/wiki/%CE%91r35%20RNA ...</td>\n",
       "      <td>Smaug is a RNA-binding protein in Drosophila t...</td>\n",
       "      <td>of three miRNAs – miR-3, miR-6, miR-309 and mi...</td>\n",
       "    </tr>\n",
       "    <tr>\n",
       "      <th>35894</th>\n",
       "      <td>35894</td>\n",
       "      <td>In which conditions was the expression of Smr3...</td>\n",
       "      <td>Bacterial growth in TY, minimal medium (MM) an...</td>\n",
       "      <td>Bacterial growth in TY, minimal medium (MM) an...</td>\n",
       "      <td>Bacterial growth in TY and minimal medium (MM)...</td>\n",
       "      <td>Bacterial growth in TY and luteolin-MM broth o...</td>\n",
       "      <td>Bacterial growth in minimal medium (MM) and lu...</td>\n",
       "      <td>A</td>\n",
       "      <td>https://en.wikipedia.org/wiki/%CE%91r35%20RNA ...</td>\n",
       "      <td>Smaug is a RNA-binding protein in Drosophila t...</td>\n",
       "      <td>recruiting a protein called Cup (an eIF4E-bind...</td>\n",
       "    </tr>\n",
       "    <tr>\n",
       "      <th>35894</th>\n",
       "      <td>35894</td>\n",
       "      <td>In which conditions was the expression of Smr3...</td>\n",
       "      <td>Bacterial growth in TY, minimal medium (MM) an...</td>\n",
       "      <td>Bacterial growth in TY, minimal medium (MM) an...</td>\n",
       "      <td>Bacterial growth in TY and minimal medium (MM)...</td>\n",
       "      <td>Bacterial growth in TY and luteolin-MM broth o...</td>\n",
       "      <td>Bacterial growth in minimal medium (MM) and lu...</td>\n",
       "      <td>A</td>\n",
       "      <td>https://en.wikipedia.org/wiki/%CE%91r35%20RNA ...</td>\n",
       "      <td>Smaug is a RNA-binding protein in Drosophila t...</td>\n",
       "      <td>homologs are SAMD4A and SAMD4B. References Ext...</td>\n",
       "    </tr>\n",
       "  </tbody>\n",
       "</table>\n",
       "<p>4002830 rows × 11 columns</p>\n",
       "</div>"
      ],
      "text/plain": [
       "          id                                             prompt  \\\n",
       "0          0  What is the molecular weight of the Stomatin p...   \n",
       "0          0  What is the molecular weight of the Stomatin p...   \n",
       "0          0  What is the molecular weight of the Stomatin p...   \n",
       "0          0  What is the molecular weight of the Stomatin p...   \n",
       "0          0  What is the molecular weight of the Stomatin p...   \n",
       "...      ...                                                ...   \n",
       "35894  35894  In which conditions was the expression of Smr3...   \n",
       "35894  35894  In which conditions was the expression of Smr3...   \n",
       "35894  35894  In which conditions was the expression of Smr3...   \n",
       "35894  35894  In which conditions was the expression of Smr3...   \n",
       "35894  35894  In which conditions was the expression of Smr3...   \n",
       "\n",
       "                                                       A  \\\n",
       "0      Stomatin is a 21 kDa integral membrane protein...   \n",
       "0      Stomatin is a 21 kDa integral membrane protein...   \n",
       "0      Stomatin is a 21 kDa integral membrane protein...   \n",
       "0      Stomatin is a 21 kDa integral membrane protein...   \n",
       "0      Stomatin is a 21 kDa integral membrane protein...   \n",
       "...                                                  ...   \n",
       "35894  Bacterial growth in TY, minimal medium (MM) an...   \n",
       "35894  Bacterial growth in TY, minimal medium (MM) an...   \n",
       "35894  Bacterial growth in TY, minimal medium (MM) an...   \n",
       "35894  Bacterial growth in TY, minimal medium (MM) an...   \n",
       "35894  Bacterial growth in TY, minimal medium (MM) an...   \n",
       "\n",
       "                                                       B  \\\n",
       "0      Stomatin is a 31 kDa integral membrane protein...   \n",
       "0      Stomatin is a 31 kDa integral membrane protein...   \n",
       "0      Stomatin is a 31 kDa integral membrane protein...   \n",
       "0      Stomatin is a 31 kDa integral membrane protein...   \n",
       "0      Stomatin is a 31 kDa integral membrane protein...   \n",
       "...                                                  ...   \n",
       "35894  Bacterial growth in TY, minimal medium (MM) an...   \n",
       "35894  Bacterial growth in TY, minimal medium (MM) an...   \n",
       "35894  Bacterial growth in TY, minimal medium (MM) an...   \n",
       "35894  Bacterial growth in TY, minimal medium (MM) an...   \n",
       "35894  Bacterial growth in TY, minimal medium (MM) an...   \n",
       "\n",
       "                                                       C  \\\n",
       "0      Stomatin is a 31 kDa integral membrane protein...   \n",
       "0      Stomatin is a 31 kDa integral membrane protein...   \n",
       "0      Stomatin is a 31 kDa integral membrane protein...   \n",
       "0      Stomatin is a 31 kDa integral membrane protein...   \n",
       "0      Stomatin is a 31 kDa integral membrane protein...   \n",
       "...                                                  ...   \n",
       "35894  Bacterial growth in TY and minimal medium (MM)...   \n",
       "35894  Bacterial growth in TY and minimal medium (MM)...   \n",
       "35894  Bacterial growth in TY and minimal medium (MM)...   \n",
       "35894  Bacterial growth in TY and minimal medium (MM)...   \n",
       "35894  Bacterial growth in TY and minimal medium (MM)...   \n",
       "\n",
       "                                                       D  \\\n",
       "0      Stomatin is a 41 kDa integral membrane protein...   \n",
       "0      Stomatin is a 41 kDa integral membrane protein...   \n",
       "0      Stomatin is a 41 kDa integral membrane protein...   \n",
       "0      Stomatin is a 41 kDa integral membrane protein...   \n",
       "0      Stomatin is a 41 kDa integral membrane protein...   \n",
       "...                                                  ...   \n",
       "35894  Bacterial growth in TY and luteolin-MM broth o...   \n",
       "35894  Bacterial growth in TY and luteolin-MM broth o...   \n",
       "35894  Bacterial growth in TY and luteolin-MM broth o...   \n",
       "35894  Bacterial growth in TY and luteolin-MM broth o...   \n",
       "35894  Bacterial growth in TY and luteolin-MM broth o...   \n",
       "\n",
       "                                                       E answer  \\\n",
       "0      Stomatin is a 31 kDa integral membrane protein...      B   \n",
       "0      Stomatin is a 31 kDa integral membrane protein...      B   \n",
       "0      Stomatin is a 31 kDa integral membrane protein...      B   \n",
       "0      Stomatin is a 31 kDa integral membrane protein...      B   \n",
       "0      Stomatin is a 31 kDa integral membrane protein...      B   \n",
       "...                                                  ...    ...   \n",
       "35894  Bacterial growth in minimal medium (MM) and lu...      A   \n",
       "35894  Bacterial growth in minimal medium (MM) and lu...      A   \n",
       "35894  Bacterial growth in minimal medium (MM) and lu...      A   \n",
       "35894  Bacterial growth in minimal medium (MM) and lu...      A   \n",
       "35894  Bacterial growth in minimal medium (MM) and lu...      A   \n",
       "\n",
       "                                              recall_ids  \\\n",
       "0      https://en.wikipedia.org/wiki/Stomatin https:/...   \n",
       "0      https://en.wikipedia.org/wiki/Stomatin https:/...   \n",
       "0      https://en.wikipedia.org/wiki/Stomatin https:/...   \n",
       "0      https://en.wikipedia.org/wiki/Stomatin https:/...   \n",
       "0      https://en.wikipedia.org/wiki/Stomatin https:/...   \n",
       "...                                                  ...   \n",
       "35894  https://en.wikipedia.org/wiki/%CE%91r35%20RNA ...   \n",
       "35894  https://en.wikipedia.org/wiki/%CE%91r35%20RNA ...   \n",
       "35894  https://en.wikipedia.org/wiki/%CE%91r35%20RNA ...   \n",
       "35894  https://en.wikipedia.org/wiki/%CE%91r35%20RNA ...   \n",
       "35894  https://en.wikipedia.org/wiki/%CE%91r35%20RNA ...   \n",
       "\n",
       "                                             recall_text  \\\n",
       "0      Stomatin also known as human erythrocyte integ...   \n",
       "0      Stomatin also known as human erythrocyte integ...   \n",
       "0      Stomatin also known as human erythrocyte integ...   \n",
       "0      Stomatin also known as human erythrocyte integ...   \n",
       "0      SH3 and cysteine-rich domain-containing protei...   \n",
       "...                                                  ...   \n",
       "35894  Smaug is a RNA-binding protein in Drosophila t...   \n",
       "35894  Smaug is a RNA-binding protein in Drosophila t...   \n",
       "35894  Smaug is a RNA-binding protein in Drosophila t...   \n",
       "35894  Smaug is a RNA-binding protein in Drosophila t...   \n",
       "35894  Smaug is a RNA-binding protein in Drosophila t...   \n",
       "\n",
       "                                         recall_sentence  \n",
       "0      Stomatin also known as human erythrocyte integ...  \n",
       "0      of red blood cells and other cell types, where...  \n",
       "0      where it may regulate ion channels and transpo...  \n",
       "0      suggests a possible structural role for this p...  \n",
       "0      SH3 and cysteine-rich domain-containing protei...  \n",
       "...                                                  ...  \n",
       "35894  Smaug is a RNA-binding protein in Drosophila t...  \n",
       "35894  by maternal mRNAs like Hsp83, nanos, string, P...  \n",
       "35894  of three miRNAs – miR-3, miR-6, miR-309 and mi...  \n",
       "35894  recruiting a protein called Cup (an eIF4E-bind...  \n",
       "35894  homologs are SAMD4A and SAMD4B. References Ext...  \n",
       "\n",
       "[4002830 rows x 11 columns]"
      ]
     },
     "execution_count": 12,
     "metadata": {},
     "output_type": "execute_result"
    }
   ],
   "source": [
    "dev_df = dev_df.explode('recall_sentence')\n",
    "dev_df"
   ]
  },
  {
   "cell_type": "code",
   "execution_count": 13,
   "id": "651c0f2a-19ba-41ce-800d-879faa1766c6",
   "metadata": {
    "tags": []
   },
   "outputs": [],
   "source": [
    "dev_df = dev_df.fillna(\"\")"
   ]
  },
  {
   "cell_type": "code",
   "execution_count": null,
   "id": "6045b3b1-ac05-4e27-9db8-6ab8669dda5e",
   "metadata": {
    "scrolled": true,
    "tags": []
   },
   "outputs": [
    {
     "name": "stderr",
     "output_type": "stream",
     "text": [
      " 58%|█████▊    | 9050/15637 [5:29:44<4:02:35,  2.21s/it]"
     ]
    }
   ],
   "source": [
    "sentence_embeddings = get_model_feature(model, dev_df['recall_sentence'].values)"
   ]
  },
  {
   "cell_type": "code",
   "execution_count": null,
   "id": "4e5d4588-9bd8-442a-8f08-8be08631206e",
   "metadata": {
    "tags": []
   },
   "outputs": [],
   "source": [
    "dev_df.reset_index(drop=True, inplace=True)"
   ]
  },
  {
   "cell_type": "code",
   "execution_count": null,
   "id": "9110268e-805f-422f-b150-e7e214007465",
   "metadata": {},
   "outputs": [],
   "source": [
    "pred_final = []\n",
    "N_RECALLS = 3\n",
    "prompt_length = len(prompt_values)\n",
    "for idx in tqdm(range(prompt_length)):\n",
    "\n",
    "    query_text = prompt_values[idx]\n",
    "    query_embedding = topic_embedding_list[idx, :]\n",
    "    sentence_embeddings_index = dev_df[dev_df['question'] == query_text].index\n",
    "    cos_scores = util.cos_sim(query_embedding.cuda(), sentence_embeddings[sentence_embeddings_index].cuda())[0]\n",
    "    top_k = min([N_RECALLS, len(corpus_embeddings)])\n",
    "    top_results = torch.topk(cos_scores, k=top_k)\n",
    "    #print(top_results)\n",
    "    indics = top_results[1].cpu().numpy()\n",
    "    \n",
    "    pid = dev_df['recall_sentence'][sentence_embeddings_index[indics]]\n",
    "    pred_final.append('<new_recall_wiki_sep>'.join(pid))\n",
    "    "
   ]
  },
  {
   "cell_type": "code",
   "execution_count": null,
   "id": "d7209d66-68a2-4682-ba04-925a6dfefab7",
   "metadata": {
    "tags": []
   },
   "outputs": [],
   "source": [
    "len(pred_final)"
   ]
  },
  {
   "cell_type": "code",
   "execution_count": null,
   "id": "68af92cb-1b75-4f20-aa4a-5b0a8f424a06",
   "metadata": {
    "tags": []
   },
   "outputs": [],
   "source": [
    "final_res['recall_info'] = pred_final"
   ]
  },
  {
   "cell_type": "code",
   "execution_count": 112,
   "id": "9d788a57-c1b6-4b79-9d6c-263255209dbd",
   "metadata": {
    "tags": []
   },
   "outputs": [
    {
     "data": {
      "text/plain": [
       "['conditions are not verified? if we assume or , we get the following differential equation (it has the same form in both cases, we will use only the notation of the temporal soliton): This equation has soliton-like solutions. For the first order (N = 1): The plot of is shown in the picture on the right. For higher order solitons () we can use the following closed form expression: It is a soliton, in the sense that it propagates without changing its shape, but it is not made by a normal pulse; rather, it is a lack of energy in a continuous time beam. The intensity is constant, but for a short time during which it jumps to zero and back again, thus generating a \"dark pulse\"\\'. Those',\n",
       " 'In optics, the term soliton is used to refer to any optical field that does not change during propagation because of a delicate balance between nonlinear and linear effects in the medium. There are two main kinds of solitons: spatial solitons: the nonlinear effect can balance the diffraction. The electromagnetic field can change the refractive index of the medium while propagating, thus creating a structure similar to a graded-index fiber. If the field is also a propagating mode of the guide it has created, then it will remain confined and it will propagate without changing its shape temporal solitons: if the electromagnetic field is already spatially confined, it is possible to send pulses that will not change their shape because the nonlinear effects will balance the dispersion. Those',\n",
       " \"of matter. In 2019, researchers from Tel-Aviv university measured an accelerating surface gravity water wave soliton by using an external hydrodynamic linear potential. They also managed to excite ballistic solitons and measure their corresponding phases. In fiber optics Much experimentation has been done using solitons in fiber optics applications. Solitons in a fiber optic system are described by the Manakov equations. Solitons' inherent stability make long-distance transmission possible without the use of repeaters, and could potentially double transmission capacity as well. In biology Solitons may occur in proteins and DNA. Solitons are related to the low-frequency collective motion in proteins and DNA. A recently developed model in neuroscience proposes that signals, in the form of density waves, are conducted within neurons in the form of solitons. Solitons can\"]"
      ]
     },
     "execution_count": 112,
     "metadata": {},
     "output_type": "execute_result"
    }
   ],
   "source": [
    "final_res.to_csv(f'{final_name}_with_retrive.csv', index=None)"
   ]
  },
  {
   "cell_type": "code",
   "execution_count": null,
   "id": "7dfe136a-37c9-4bbb-ba73-612f7d665b55",
   "metadata": {},
   "outputs": [],
   "source": []
  }
 ],
 "metadata": {
  "kernelspec": {
   "display_name": "Python 3 (ipykernel)",
   "language": "python",
   "name": "python3"
  },
  "language_info": {
   "codemirror_mode": {
    "name": "ipython",
    "version": 3
   },
   "file_extension": ".py",
   "mimetype": "text/x-python",
   "name": "python",
   "nbconvert_exporter": "python",
   "pygments_lexer": "ipython3",
   "version": "3.9.15"
  }
 },
 "nbformat": 4,
 "nbformat_minor": 5
}
