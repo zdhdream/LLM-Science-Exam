{
 "cells": [
  {
   "cell_type": "code",
   "execution_count": 1,
   "id": "9a5d8282-fcd9-48b1-9654-8ae468a40dc3",
   "metadata": {
    "tags": []
   },
   "outputs": [
    {
     "name": "stdout",
     "output_type": "stream",
     "text": [
      "tokenizers.__version__: 0.13.3\n",
      "transformers.__version__: 4.32.0\n"
     ]
    },
    {
     "name": "stderr",
     "output_type": "stream",
     "text": [
      "Found cached dataset parquet (/root/.cache/huggingface/datasets/parquet/default-8fbfeb4bcfeca33a/0.0.0/2a3b91fbd88a2c90d1dbbb32b460cf621d31bd5b05b934492fdef7d8d6f236ec)\n"
     ]
    }
   ],
   "source": [
    "TOP_K = 5\n",
    "N_RECALLS = 10\n",
    "MAX_SEQ_LEN = 512\n",
    "\n",
    "\n",
    "MODEL_NAME = \"output_simcse_model\"\n",
    "\n",
    "import warnings\n",
    "warnings.simplefilter('ignore')\n",
    "\n",
    "import os\n",
    "import re\n",
    "import gc\n",
    "import sys\n",
    "import multiprocessing\n",
    "\n",
    "import numpy as np\n",
    "import pandas as pd\n",
    "pd.set_option('display.max_columns', None)\n",
    "from tqdm.auto import tqdm\n",
    "from copy import deepcopy\n",
    "import torch\n",
    "import blingfire as bf\n",
    "from sentence_transformers import SentenceTransformer\n",
    "from sentence_transformers import util\n",
    "import tokenizers\n",
    "import transformers\n",
    "print(f\"tokenizers.__version__: {tokenizers.__version__}\")\n",
    "print(f\"transformers.__version__: {transformers.__version__}\")\n",
    "from transformers import AutoTokenizer, AutoModel, AutoConfig\n",
    "import torch.nn as nn\n",
    "from torch.nn import Parameter\n",
    "import torch.nn.functional as F\n",
    "from torch.optim import Adam, SGD, AdamW\n",
    "from torch.optim import lr_scheduler\n",
    "from torch.utils.data import DataLoader, Dataset\n",
    "from transformers import get_cosine_schedule_with_warmup, DataCollatorWithPadding\n",
    "from sklearn.model_selection import train_test_split\n",
    "from datasets import load_dataset\n",
    "from pathlib import Path\n",
    "from glob import glob\n",
    "# 加载数据\n",
    "\n",
    "DATA_DIR = './learning-equality-curriculum-recommendations'\n",
    "\n",
    "\n",
    "def read_csv(file_path):\n",
    "    df = pd.read_csv(file_path)\n",
    "    if 'id' in df.columns:\n",
    "        df  = df.drop(columns=\"id\")\n",
    "    return df\n",
    "\n",
    "# 验证集 topic_id\n",
    "final_name = './external_train_data/stem_dataset_gpt4.csv'\n",
    "\n",
    "df_train = pd.concat([\n",
    "    read_csv(i) for i in glob('./external_train_data/*') if 'stem_dataset_gpt4'  in i  or \\\n",
    "                                                          'stem_dataset.csv' in i or \\\n",
    "                                                          '15k_gpt3.5-turbo.csv' in i\n",
    "])\n",
    "df_train['is_train'] = 1\n",
    "df_eval = read_csv('train.csv')\n",
    "df_eval['is_train'] = 0\n",
    "df_train = pd.concat([df_train, df_eval])\n",
    "# df = pd.read_csv('retrive_dataset.csv')\n",
    "# dev_ids = np.load('dev_id.npy',allow_pickle=True)\n",
    "# dev_df =  df[df['url'].isin(dev_ids)]\n",
    "dev_df = df_train.copy()\n",
    "dev_df.reset_index(drop=True, inplace=True)\n",
    "final_res = deepcopy(dev_df)\n",
    "files = list(map(str, Path(\"./wiki_sci\").glob(\"*.parquet\")))\n",
    "ds = load_dataset(\"parquet\", data_files=files, split=\"train\")\n",
    "content_df = pd.DataFrame(ds)\n",
    "# 加载预训练模型\n",
    "\n",
    "# ====================================================\n",
    "# Model\n",
    "# ====================================================\n",
    "class MeanPooling(nn.Module):\n",
    "    def __init__(self):\n",
    "        super(MeanPooling, self).__init__()\n",
    "\n",
    "    def forward(self, last_hidden_state, attention_mask):\n",
    "        input_mask_expanded = attention_mask.unsqueeze(-1).expand(last_hidden_state.size()).float()\n",
    "        sum_embeddings = torch.sum(last_hidden_state * input_mask_expanded, 1)\n",
    "        sum_mask = input_mask_expanded.sum(1)\n",
    "        sum_mask = torch.clamp(sum_mask, min=1e-9)\n",
    "        mean_embeddings = sum_embeddings / sum_mask\n",
    "        return mean_embeddings\n",
    "\n",
    "class WeightedLayerPooling(nn.Module):\n",
    "    def __init__(self, num_hidden_layers, layer_start: int = 4, layer_weights=None):\n",
    "        super(WeightedLayerPooling, self).__init__()\n",
    "        self.layer_start = layer_start\n",
    "        self.num_hidden_layers = num_hidden_layers\n",
    "        self.layer_weights = layer_weights if layer_weights is not None \\\n",
    "            else nn.Parameter(\n",
    "            torch.tensor([1] * (num_hidden_layers + 1 - layer_start), dtype=torch.float)\n",
    "        )\n",
    "\n",
    "    def forward(self, all_hidden_states):\n",
    "        all_layer_embedding = all_hidden_states[self.layer_start:, :, :, :]\n",
    "        weight_factor = self.layer_weights.unsqueeze(-1).unsqueeze(-1).unsqueeze(-1).expand(all_layer_embedding.size())\n",
    "        weighted_average = (weight_factor * all_layer_embedding).sum(dim=0) / self.layer_weights.sum()\n",
    "        return weighted_average\n",
    "\n",
    "class CustomModel(nn.Module):\n",
    "    def __init__(self, cfg, config_path=None, pretrained=False):\n",
    "        super().__init__()\n",
    "        self.cfg = cfg\n",
    "        if config_path is None:\n",
    "            self.config = AutoConfig.from_pretrained(cfg.model, output_hidden_states=True)\n",
    "            # self.config.hidden_dropout = 0.\n",
    "            # self.config.hidden_dropout_prob = 0.\n",
    "            # self.config.attention_dropout = 0.\n",
    "            # self.config.attention_probs_dropout_prob = 0.\n",
    "        else:\n",
    "            self.config = torch.load(config_path)\n",
    "\n",
    "        if pretrained:\n",
    "            self.model = AutoModel.from_pretrained(cfg.model, config=self.config)\n",
    "        else:\n",
    "            self.model = AutoModel.from_config(self.config)\n",
    "        # if self.cfg.gradient_checkpointing:\n",
    "        #     self.model.gradient_checkpointing_enable\n",
    "\n",
    "        self.pool = MeanPooling()\n",
    "        self.fc_dropout = nn.Dropout(0.1)\n",
    "        self.fc = nn.Linear(self.config.hidden_size, 1)\n",
    "        self._init_weights(self.fc)\n",
    "\n",
    "    def _init_weights(self, module):\n",
    "        if isinstance(module, nn.Linear):\n",
    "            module.weight.data.normal_(mean=0.0, std=self.config.initializer_range)\n",
    "            if module.bias is not None:\n",
    "                module.bias.data.zero_()\n",
    "        elif isinstance(module, nn.Embedding):\n",
    "            module.weight.data.normal_(mean=0.0, std=self.config.initializer_range)\n",
    "            if module.padding_idx is not None:\n",
    "                module.weight.data[module.padding_idx].zero_()\n",
    "        elif isinstance(module, nn.LayerNorm):\n",
    "            module.bias.data.zero_()\n",
    "            module.weight.data.fill_(1.0)\n",
    "\n",
    "    def forward(self, inputs):\n",
    "        outputs = self.model(**inputs)\n",
    "        last_hidden_states = outputs[0]\n",
    "        feature = self.pool(last_hidden_states, inputs['attention_mask'])\n",
    "        #feature = F.normalize(feature, p=2, dim=1)\n",
    "        return feature\n",
    "\n",
    "    \n",
    "def get_sentences(document):\n",
    "    res = []\n",
    "    _, sentence_offsets = bf.text_to_sentences_and_offsets(document)\n",
    "    for o in sentence_offsets:\n",
    "        if o[1]-o[0] < 20:\n",
    "            continue\n",
    "        sentence = document[o[0]:o[1]]\n",
    "        res.append(sentence)\n",
    "    return res\n",
    "#tokenizer = AutoTokenizer.from_pretrained(MODEL_NAME)\n",
    "model = 'sentence-transformers/all-mpnet-base-v1'\n",
    "tokenizer = AutoTokenizer.from_pretrained(model)\n",
    "\n",
    "model = CustomModel(cfg=None, config_path=MODEL_NAME + '/config.pth', pretrained=False)\n",
    "state = torch.load(MODEL_NAME + '/sentence-transformers-all-mpnet-base-v1_fold0_best.pth',\n",
    "                   map_location=torch.device('cpu'))\n",
    "model.load_state_dict(state['model'])\n",
    "\n",
    "device = torch.device('cuda:1') if torch.cuda.device_count() > 1 else torch.device('cuda:0')\n",
    "model.eval()\n",
    "model.to(device)\n",
    "\n",
    "\n",
    "class TestDataset(Dataset):\n",
    "    def __init__(self, texts):\n",
    "        self.texts = texts\n",
    "\n",
    "    def __len__(self):\n",
    "        return len(self.texts)\n",
    "\n",
    "    def __getitem__(self, item):\n",
    "        text = self.texts[item]\n",
    "        # text = self.texts[item].replace('[SEP]', '</s>')\n",
    "        inputs = tokenizer(text,\n",
    "                           max_length=512,\n",
    "                           pad_to_max_length=True,\n",
    "                           add_special_tokens=True,\n",
    "                           return_offsets_mapping=False)\n",
    "\n",
    "        for k, v in inputs.items():\n",
    "            inputs[k] = torch.tensor(v, dtype=torch.long)\n",
    "        return inputs\n",
    "\n",
    "def get_model_feature(model, texts):\n",
    "    feature_outs_all = []\n",
    "    test_dataset = TestDataset(texts)\n",
    "    test_loader = DataLoader(test_dataset,\n",
    "                             batch_size=128,\n",
    "                             shuffle=False,\n",
    "                             collate_fn=DataCollatorWithPadding(tokenizer=tokenizer, padding='longest'),\n",
    "                             num_workers=0, pin_memory=True, drop_last=False)\n",
    "\n",
    "    # tk0 = tqdm(test_loader, total=len(test_loader))\n",
    "    for inputs in tqdm(test_loader):\n",
    "        for k, v in inputs.items():\n",
    "            inputs[k] = v.to(device)\n",
    "        with torch.no_grad():\n",
    "            feature_outs = model(inputs)\n",
    "            feature_outs_all.append(feature_outs.cpu())\n",
    "\n",
    "    feature_outs_all_final = torch.cat(feature_outs_all, dim=0)\n",
    "    #print(feature_outs_all_final.shape)\n",
    "\n",
    "    return feature_outs_all_final\n"
   ]
  },
  {
   "cell_type": "code",
   "execution_count": 2,
   "id": "dcb2d6bc-6b92-4136-8e57-3831a03506e2",
   "metadata": {
    "tags": []
   },
   "outputs": [],
   "source": [
    "content_df['sentence'] = content_df['text'].apply(lambda x:get_sentences(x))"
   ]
  },
  {
   "cell_type": "code",
   "execution_count": 3,
   "id": "846d758e-9fdf-43da-8554-d2ea09db09a2",
   "metadata": {
    "tags": []
   },
   "outputs": [
    {
     "data": {
      "text/plain": [
       "(4086356, 4)"
      ]
     },
     "execution_count": 3,
     "metadata": {},
     "output_type": "execute_result"
    }
   ],
   "source": [
    "content_df = content_df.explode('sentence')\n",
    "content_df.shape"
   ]
  },
  {
   "cell_type": "code",
   "execution_count": 4,
   "id": "f73ce441-11cd-4be3-8213-4022cf8437f0",
   "metadata": {
    "tags": []
   },
   "outputs": [
    {
     "data": {
      "text/html": [
       "<div>\n",
       "<style scoped>\n",
       "    .dataframe tbody tr th:only-of-type {\n",
       "        vertical-align: middle;\n",
       "    }\n",
       "\n",
       "    .dataframe tbody tr th {\n",
       "        vertical-align: top;\n",
       "    }\n",
       "\n",
       "    .dataframe thead th {\n",
       "        text-align: right;\n",
       "    }\n",
       "</style>\n",
       "<table border=\"1\" class=\"dataframe\">\n",
       "  <thead>\n",
       "    <tr style=\"text-align: right;\">\n",
       "      <th></th>\n",
       "      <th>text</th>\n",
       "      <th>url</th>\n",
       "      <th>title</th>\n",
       "      <th>sentence</th>\n",
       "    </tr>\n",
       "  </thead>\n",
       "  <tbody>\n",
       "    <tr>\n",
       "      <th>0</th>\n",
       "      <td>Stomatin also known as human erythrocyte integ...</td>\n",
       "      <td>https://en.wikipedia.org/wiki/Stomatin</td>\n",
       "      <td>Stomatin</td>\n",
       "      <td>Stomatin also known as human erythrocyte integ...</td>\n",
       "    </tr>\n",
       "    <tr>\n",
       "      <th>1</th>\n",
       "      <td>Stomatin also known as human erythrocyte integ...</td>\n",
       "      <td>https://en.wikipedia.org/wiki/Stomatin</td>\n",
       "      <td>Stomatin</td>\n",
       "      <td>Clinical significance \\n\\nStomatin is a 31 kDa...</td>\n",
       "    </tr>\n",
       "    <tr>\n",
       "      <th>2</th>\n",
       "      <td>Stomatin also known as human erythrocyte integ...</td>\n",
       "      <td>https://en.wikipedia.org/wiki/Stomatin</td>\n",
       "      <td>Stomatin</td>\n",
       "      <td>This gene encodes a member of a highly conserv...</td>\n",
       "    </tr>\n",
       "    <tr>\n",
       "      <th>3</th>\n",
       "      <td>Stomatin also known as human erythrocyte integ...</td>\n",
       "      <td>https://en.wikipedia.org/wiki/Stomatin</td>\n",
       "      <td>Stomatin</td>\n",
       "      <td>The encoded protein localizes to the cell memb...</td>\n",
       "    </tr>\n",
       "    <tr>\n",
       "      <th>4</th>\n",
       "      <td>Stomatin also known as human erythrocyte integ...</td>\n",
       "      <td>https://en.wikipedia.org/wiki/Stomatin</td>\n",
       "      <td>Stomatin</td>\n",
       "      <td>Loss of localization of the encoded protein is...</td>\n",
       "    </tr>\n",
       "    <tr>\n",
       "      <th>...</th>\n",
       "      <td>...</td>\n",
       "      <td>...</td>\n",
       "      <td>...</td>\n",
       "      <td>...</td>\n",
       "    </tr>\n",
       "    <tr>\n",
       "      <th>4086351</th>\n",
       "      <td>Active rectification, or synchronous rectifica...</td>\n",
       "      <td>https://en.wikipedia.org/wiki/Active%20rectifi...</td>\n",
       "      <td>Active rectification</td>\n",
       "      <td>IEE Proceedings - Electric Power Applications,...</td>\n",
       "    </tr>\n",
       "    <tr>\n",
       "      <th>4086352</th>\n",
       "      <td>Active rectification, or synchronous rectifica...</td>\n",
       "      <td>https://en.wikipedia.org/wiki/Active%20rectifi...</td>\n",
       "      <td>Active rectification</td>\n",
       "      <td>Digital Object Identifier:10.1049/ip-epa:19990...</td>\n",
       "    </tr>\n",
       "    <tr>\n",
       "      <th>4086353</th>\n",
       "      <td>Active rectification, or synchronous rectifica...</td>\n",
       "      <td>https://en.wikipedia.org/wiki/Active%20rectifi...</td>\n",
       "      <td>Active rectification</td>\n",
       "      <td>Santiago, A. Birchenough. (2005).</td>\n",
       "    </tr>\n",
       "    <tr>\n",
       "      <th>4086354</th>\n",
       "      <td>Active rectification, or synchronous rectifica...</td>\n",
       "      <td>https://en.wikipedia.org/wiki/Active%20rectifi...</td>\n",
       "      <td>Active rectification</td>\n",
       "      <td>Single Phase Passive Rectification versus Acti...</td>\n",
       "    </tr>\n",
       "    <tr>\n",
       "      <th>4086355</th>\n",
       "      <td>Active rectification, or synchronous rectifica...</td>\n",
       "      <td>https://en.wikipedia.org/wiki/Active%20rectifi...</td>\n",
       "      <td>Active rectification</td>\n",
       "      <td>Rectifiers\\n\\nde:Gleichrichter#Synchrongleichr...</td>\n",
       "    </tr>\n",
       "  </tbody>\n",
       "</table>\n",
       "<p>4086356 rows × 4 columns</p>\n",
       "</div>"
      ],
      "text/plain": [
       "                                                      text  \\\n",
       "0        Stomatin also known as human erythrocyte integ...   \n",
       "1        Stomatin also known as human erythrocyte integ...   \n",
       "2        Stomatin also known as human erythrocyte integ...   \n",
       "3        Stomatin also known as human erythrocyte integ...   \n",
       "4        Stomatin also known as human erythrocyte integ...   \n",
       "...                                                    ...   \n",
       "4086351  Active rectification, or synchronous rectifica...   \n",
       "4086352  Active rectification, or synchronous rectifica...   \n",
       "4086353  Active rectification, or synchronous rectifica...   \n",
       "4086354  Active rectification, or synchronous rectifica...   \n",
       "4086355  Active rectification, or synchronous rectifica...   \n",
       "\n",
       "                                                       url  \\\n",
       "0                   https://en.wikipedia.org/wiki/Stomatin   \n",
       "1                   https://en.wikipedia.org/wiki/Stomatin   \n",
       "2                   https://en.wikipedia.org/wiki/Stomatin   \n",
       "3                   https://en.wikipedia.org/wiki/Stomatin   \n",
       "4                   https://en.wikipedia.org/wiki/Stomatin   \n",
       "...                                                    ...   \n",
       "4086351  https://en.wikipedia.org/wiki/Active%20rectifi...   \n",
       "4086352  https://en.wikipedia.org/wiki/Active%20rectifi...   \n",
       "4086353  https://en.wikipedia.org/wiki/Active%20rectifi...   \n",
       "4086354  https://en.wikipedia.org/wiki/Active%20rectifi...   \n",
       "4086355  https://en.wikipedia.org/wiki/Active%20rectifi...   \n",
       "\n",
       "                        title  \\\n",
       "0                    Stomatin   \n",
       "1                    Stomatin   \n",
       "2                    Stomatin   \n",
       "3                    Stomatin   \n",
       "4                    Stomatin   \n",
       "...                       ...   \n",
       "4086351  Active rectification   \n",
       "4086352  Active rectification   \n",
       "4086353  Active rectification   \n",
       "4086354  Active rectification   \n",
       "4086355  Active rectification   \n",
       "\n",
       "                                                  sentence  \n",
       "0        Stomatin also known as human erythrocyte integ...  \n",
       "1        Clinical significance \\n\\nStomatin is a 31 kDa...  \n",
       "2        This gene encodes a member of a highly conserv...  \n",
       "3        The encoded protein localizes to the cell memb...  \n",
       "4        Loss of localization of the encoded protein is...  \n",
       "...                                                    ...  \n",
       "4086351  IEE Proceedings - Electric Power Applications,...  \n",
       "4086352  Digital Object Identifier:10.1049/ip-epa:19990...  \n",
       "4086353                  Santiago, A. Birchenough. (2005).  \n",
       "4086354  Single Phase Passive Rectification versus Acti...  \n",
       "4086355  Rectifiers\\n\\nde:Gleichrichter#Synchrongleichr...  \n",
       "\n",
       "[4086356 rows x 4 columns]"
      ]
     },
     "execution_count": 4,
     "metadata": {},
     "output_type": "execute_result"
    }
   ],
   "source": [
    "content_df.reset_index(drop=True, inplace=True)\n",
    "content_df"
   ]
  },
  {
   "cell_type": "code",
   "execution_count": 34,
   "id": "bb9339b6-82e3-440c-bb78-90c1b482228d",
   "metadata": {
    "tags": []
   },
   "outputs": [],
   "source": [
    "#test = pd.read_csv('test.csv')"
   ]
  },
  {
   "cell_type": "code",
   "execution_count": 5,
   "id": "fdffb0b1-a22a-4785-8402-eee3dfdafd57",
   "metadata": {
    "tags": []
   },
   "outputs": [
    {
     "name": "stderr",
     "output_type": "stream",
     "text": [
      "  0%|          | 0/439 [00:00<?, ?it/s]Truncation was not explicitly activated but `max_length` is provided a specific value, please use `truncation=True` to explicitly truncate examples to max length. Defaulting to 'longest_first' truncation strategy. If you encode pairs of sequences (GLUE-style) with the tokenizer you can select this strategy more precisely by providing a specific strategy to `truncation`.\n",
      "You're using a MPNetTokenizerFast tokenizer. Please note that with a fast tokenizer, using the `__call__` method is faster than using a method to encode the text followed by a call to the `pad` method to get a padded encoding.\n",
      "100%|██████████| 439/439 [07:28<00:00,  1.02s/it]"
     ]
    },
    {
     "name": "stdout",
     "output_type": "stream",
     "text": [
      "question embedding done\n",
      "torch.Size([56095, 768])\n"
     ]
    },
    {
     "name": "stderr",
     "output_type": "stream",
     "text": [
      "\n"
     ]
    }
   ],
   "source": [
    "topic_embedding_list = get_model_feature(model, dev_df['prompt'].values)\n",
    "print('question embedding done')\n",
    "print(topic_embedding_list.shape)"
   ]
  },
  {
   "cell_type": "code",
   "execution_count": 35,
   "id": "5c95df9f-a5a1-4f7a-b13c-1320a56d670a",
   "metadata": {
    "tags": []
   },
   "outputs": [
    {
     "name": "stderr",
     "output_type": "stream",
     "text": [
      "100%|██████████| 2/2 [00:01<00:00,  1.27it/s]"
     ]
    },
    {
     "name": "stdout",
     "output_type": "stream",
     "text": [
      "question embedding done\n",
      "torch.Size([200, 768])\n"
     ]
    },
    {
     "name": "stderr",
     "output_type": "stream",
     "text": [
      "\n"
     ]
    }
   ],
   "source": [
    "# test_embedding_list = get_model_feature(model, test['prompt'].values)\n",
    "# print('question embedding done')\n",
    "# print(test_embedding_list.shape)"
   ]
  },
  {
   "cell_type": "code",
   "execution_count": 6,
   "id": "0662018e-455d-4069-bd67-2d4ce8bd70da",
   "metadata": {
    "tags": []
   },
   "outputs": [
    {
     "name": "stderr",
     "output_type": "stream",
     "text": [
      "100%|██████████| 31925/31925 [9:08:47<00:00,  1.03s/it]  \n"
     ]
    },
    {
     "name": "stdout",
     "output_type": "stream",
     "text": [
      "content embedding done\n",
      "torch.Size([4086356, 768])\n"
     ]
    }
   ],
   "source": [
    "corpus_embeddings = get_model_feature(model, content_df['sentence'].values)\n",
    "print('content embedding done')\n",
    "print(corpus_embeddings.shape)"
   ]
  },
  {
   "cell_type": "code",
   "execution_count": 66,
   "id": "54369dd7-30d9-4d49-bf56-7148958a42a9",
   "metadata": {
    "tags": []
   },
   "outputs": [],
   "source": [
    "#corpus_embeddings = torch.as_tensor(np.load('text_embedding.npy')).to('cuda')"
   ]
  },
  {
   "cell_type": "code",
   "execution_count": 7,
   "id": "fa92c48f-e2d2-4c1f-948d-66c943bf02f2",
   "metadata": {
    "tags": []
   },
   "outputs": [],
   "source": [
    "np.save('text_sentence_embedding', corpus_embeddings.cpu().numpy())"
   ]
  },
  {
   "cell_type": "code",
   "execution_count": 8,
   "id": "71518878-df38-4668-83e8-9d467b3d198c",
   "metadata": {
    "tags": []
   },
   "outputs": [],
   "source": [
    "content_df.to_parquet('wiki_sci_text_sentence.parquet')"
   ]
  },
  {
   "cell_type": "code",
   "execution_count": null,
   "id": "e9f3b45a-0a86-4af2-a85b-ef53ac9e7d78",
   "metadata": {
    "scrolled": true,
    "tags": []
   },
   "outputs": [
    {
     "name": "stderr",
     "output_type": "stream",
     "text": [
      " 60%|██████    | 33693/56095 [17:20:00<11:43:02,  1.88s/it]"
     ]
    }
   ],
   "source": [
    "N_RECALLS= 30\n",
    "pred_final = []\n",
    "pred_text = []\n",
    "for idx, row in tqdm(dev_df.iterrows(), total=len(dev_df)):\n",
    "\n",
    "    query_embedding = topic_embedding_list[idx, :]\n",
    "\n",
    "    cos_scores = util.cos_sim(query_embedding, corpus_embeddings)[0]\n",
    "    top_k = min([N_RECALLS, len(corpus_embeddings)])\n",
    "    top_results = torch.topk(cos_scores, k=top_k)\n",
    "    #print(top_results)\n",
    "    indics = top_results[1].cpu().numpy()\n",
    "\n",
    "    # threshold = 0.8\n",
    "    # score_top = top_results[0].cpu().numpy()\n",
    "    # in_use = np.where(score_top > threshold)\n",
    "    # indics = indics[in_use]\n",
    "\n",
    "    #pid = content_dict[lang]['id'][indics]\n",
    "    try:\n",
    "        pid = content_df['url'][indics]\n",
    "        pred_final.append(' '.join(pid))\n",
    "\n",
    "        pid = content_df['sentence'][indics]\n",
    "        pred_text.append('<recall_wiki_text>'.join(pid))\n",
    "    except:\n",
    "        pred_final.append('')\n",
    "        pred_text.append('')\n",
    "\n",
    "dev_df['recall_ids'] = pred_final\n",
    "dev_df['recall_text'] = pred_text\n"
   ]
  },
  {
   "cell_type": "code",
   "execution_count": 36,
   "id": "246b51f5-8ea4-4500-a74d-4bd6426ad063",
   "metadata": {
    "tags": []
   },
   "outputs": [
    {
     "name": "stderr",
     "output_type": "stream",
     "text": [
      "  4%|▍         | 8/200 [00:16<06:38,  2.08s/it]\n"
     ]
    },
    {
     "ename": "KeyboardInterrupt",
     "evalue": "",
     "output_type": "error",
     "traceback": [
      "\u001b[0;31m---------------------------------------------------------------------------\u001b[0m",
      "\u001b[0;31mKeyboardInterrupt\u001b[0m                         Traceback (most recent call last)",
      "\u001b[0;32m/tmp/ipykernel_3156210/3557308954.py\u001b[0m in \u001b[0;36m<cell line: 4>\u001b[0;34m()\u001b[0m\n\u001b[1;32m      6\u001b[0m     \u001b[0mquery_embedding\u001b[0m \u001b[0;34m=\u001b[0m \u001b[0mtest_embedding_list\u001b[0m\u001b[0;34m[\u001b[0m\u001b[0midx\u001b[0m\u001b[0;34m,\u001b[0m \u001b[0;34m:\u001b[0m\u001b[0;34m]\u001b[0m\u001b[0;34m\u001b[0m\u001b[0;34m\u001b[0m\u001b[0m\n\u001b[1;32m      7\u001b[0m \u001b[0;34m\u001b[0m\u001b[0m\n\u001b[0;32m----> 8\u001b[0;31m     \u001b[0mcos_scores\u001b[0m \u001b[0;34m=\u001b[0m \u001b[0mutil\u001b[0m\u001b[0;34m.\u001b[0m\u001b[0mcos_sim\u001b[0m\u001b[0;34m(\u001b[0m\u001b[0mquery_embedding\u001b[0m\u001b[0;34m,\u001b[0m \u001b[0mcorpus_embeddings\u001b[0m\u001b[0;34m)\u001b[0m\u001b[0;34m[\u001b[0m\u001b[0;36m0\u001b[0m\u001b[0;34m]\u001b[0m\u001b[0;34m\u001b[0m\u001b[0;34m\u001b[0m\u001b[0m\n\u001b[0m\u001b[1;32m      9\u001b[0m     \u001b[0mtop_k\u001b[0m \u001b[0;34m=\u001b[0m \u001b[0mmin\u001b[0m\u001b[0;34m(\u001b[0m\u001b[0;34m[\u001b[0m\u001b[0mN_RECALLS\u001b[0m\u001b[0;34m,\u001b[0m \u001b[0mlen\u001b[0m\u001b[0;34m(\u001b[0m\u001b[0mcorpus_embeddings\u001b[0m\u001b[0;34m)\u001b[0m\u001b[0;34m]\u001b[0m\u001b[0;34m)\u001b[0m\u001b[0;34m\u001b[0m\u001b[0;34m\u001b[0m\u001b[0m\n\u001b[1;32m     10\u001b[0m     \u001b[0mtop_results\u001b[0m \u001b[0;34m=\u001b[0m \u001b[0mtorch\u001b[0m\u001b[0;34m.\u001b[0m\u001b[0mtopk\u001b[0m\u001b[0;34m(\u001b[0m\u001b[0mcos_scores\u001b[0m\u001b[0;34m,\u001b[0m \u001b[0mk\u001b[0m\u001b[0;34m=\u001b[0m\u001b[0mtop_k\u001b[0m\u001b[0;34m)\u001b[0m\u001b[0;34m\u001b[0m\u001b[0;34m\u001b[0m\u001b[0m\n",
      "\u001b[0;32m/usr/local/lib/python3.8/dist-packages/sentence_transformers/util.py\u001b[0m in \u001b[0;36mcos_sim\u001b[0;34m(a, b)\u001b[0m\n\u001b[1;32m     47\u001b[0m     \u001b[0ma_norm\u001b[0m \u001b[0;34m=\u001b[0m \u001b[0mtorch\u001b[0m\u001b[0;34m.\u001b[0m\u001b[0mnn\u001b[0m\u001b[0;34m.\u001b[0m\u001b[0mfunctional\u001b[0m\u001b[0;34m.\u001b[0m\u001b[0mnormalize\u001b[0m\u001b[0;34m(\u001b[0m\u001b[0ma\u001b[0m\u001b[0;34m,\u001b[0m \u001b[0mp\u001b[0m\u001b[0;34m=\u001b[0m\u001b[0;36m2\u001b[0m\u001b[0;34m,\u001b[0m \u001b[0mdim\u001b[0m\u001b[0;34m=\u001b[0m\u001b[0;36m1\u001b[0m\u001b[0;34m)\u001b[0m\u001b[0;34m\u001b[0m\u001b[0;34m\u001b[0m\u001b[0m\n\u001b[1;32m     48\u001b[0m     \u001b[0mb_norm\u001b[0m \u001b[0;34m=\u001b[0m \u001b[0mtorch\u001b[0m\u001b[0;34m.\u001b[0m\u001b[0mnn\u001b[0m\u001b[0;34m.\u001b[0m\u001b[0mfunctional\u001b[0m\u001b[0;34m.\u001b[0m\u001b[0mnormalize\u001b[0m\u001b[0;34m(\u001b[0m\u001b[0mb\u001b[0m\u001b[0;34m,\u001b[0m \u001b[0mp\u001b[0m\u001b[0;34m=\u001b[0m\u001b[0;36m2\u001b[0m\u001b[0;34m,\u001b[0m \u001b[0mdim\u001b[0m\u001b[0;34m=\u001b[0m\u001b[0;36m1\u001b[0m\u001b[0;34m)\u001b[0m\u001b[0;34m\u001b[0m\u001b[0;34m\u001b[0m\u001b[0m\n\u001b[0;32m---> 49\u001b[0;31m     \u001b[0;32mreturn\u001b[0m \u001b[0mtorch\u001b[0m\u001b[0;34m.\u001b[0m\u001b[0mmm\u001b[0m\u001b[0;34m(\u001b[0m\u001b[0ma_norm\u001b[0m\u001b[0;34m,\u001b[0m \u001b[0mb_norm\u001b[0m\u001b[0;34m.\u001b[0m\u001b[0mtranspose\u001b[0m\u001b[0;34m(\u001b[0m\u001b[0;36m0\u001b[0m\u001b[0;34m,\u001b[0m \u001b[0;36m1\u001b[0m\u001b[0;34m)\u001b[0m\u001b[0;34m)\u001b[0m\u001b[0;34m\u001b[0m\u001b[0;34m\u001b[0m\u001b[0m\n\u001b[0m\u001b[1;32m     50\u001b[0m \u001b[0;34m\u001b[0m\u001b[0m\n\u001b[1;32m     51\u001b[0m \u001b[0;34m\u001b[0m\u001b[0m\n",
      "\u001b[0;31mKeyboardInterrupt\u001b[0m: "
     ]
    }
   ],
   "source": [
    "N_RECALLS= 30\n",
    "pred_final = []\n",
    "pred_text = []\n",
    "for idx, row in tqdm(test.iterrows(), total=len(test)):\n",
    "\n",
    "    query_embedding = test_embedding_list[idx, :]\n",
    "\n",
    "    cos_scores = util.cos_sim(query_embedding, corpus_embeddings)[0]\n",
    "    top_k = min([N_RECALLS, len(corpus_embeddings)])\n",
    "    top_results = torch.topk(cos_scores, k=top_k)\n",
    "    #print(top_results)\n",
    "    indics = top_results[1].cpu().numpy()\n",
    "\n",
    "    # threshold = 0.8\n",
    "    # score_top = top_results[0].cpu().numpy()\n",
    "    # in_use = np.where(score_top > threshold)\n",
    "    # indics = indics[in_use]\n",
    "\n",
    "    #pid = content_dict[lang]['id'][indics]\n",
    "    try:\n",
    "        pid = content_df['url'][indics]\n",
    "        pred_final.append(' '.join(pid))\n",
    "\n",
    "        pid = content_df['sentence'][indics]\n",
    "        pred_text.append('<recall_wiki_text>'.join(pid))\n",
    "    except:\n",
    "        pred_final.append('')\n",
    "        pred_text.append('')\n",
    "\n",
    "test['recall_ids'] = pred_final\n",
    "test['recall_text'] = pred_text\n"
   ]
  },
  {
   "cell_type": "code",
   "execution_count": 41,
   "id": "ad284a94-dc2e-46da-b551-bb74ae838033",
   "metadata": {
    "tags": []
   },
   "outputs": [
    {
     "data": {
      "text/plain": [
       "'Which of the following statements accurately describes the impact of Modified Newtonian Dynamics (MOND) on the observed \"missing baryonic mass\" discrepancy in galaxy clusters?'"
      ]
     },
     "execution_count": 41,
     "metadata": {},
     "output_type": "execute_result"
    }
   ],
   "source": [
    "test.iloc[0,1]"
   ]
  },
  {
   "cell_type": "code",
   "execution_count": 39,
   "id": "9c930d44-4259-44e0-8fa5-5b1c6642f547",
   "metadata": {
    "tags": []
   },
   "outputs": [
    {
     "name": "stdout",
     "output_type": "stream",
     "text": [
      "[\"MOND \\n\\nModified Newtonian Dynamics (MOND) is a relatively modern proposal to explain the galaxy rotation problem based on a variation of Newton's Second Law of Dynamics at low accelerations.\", 'Modified Newtonian Dynamics (MOND)\\nAccording to Brada and Milgrom,\\n\\nReferences\\n\\nObservational astronomy\\nExtragalactic astronomy', 'The corresponding force acting on a test mass  is\\n\\nTo account for the anomalous rotation curves of spiral galaxies, Milgrom proposed a modification of this force law in the form\\n\\nwhere  is an arbitrary function subject to the following conditions:\\n\\nIn this form, MOND is not a complete theory: for instance, it violates the law of momentum conservation.', 'This unusual-looking galaxy appears to be one partner in a cosmic collision, and appeared to show dynamics consistent with a dark galaxy (and apparently inconsistent with the predictions of the Modified Newtonian Dynamics (MOND) theory).', 'MOND has had a considerable amount of success in predicting the rotation curves of low-surface-brightness galaxies, matching the baryonic Tully–Fisher relation, and the velocity dispersions of the small satellite galaxies of the Local Group.', 'Details\\nMOND is a phenomenological modification of the Newtonian acceleration law.', 'One of the most discussed is Modified Newtonian Dynamics (MOND), originally proposed by Mordehai Milgrom in 1983, which modifies the Newtonian force law at low accelerations to enhance the effective gravitational attraction.', 'It is theorized that most of the mass in a galaxy cluster consists of dark matter and not baryonic matter.', 'Significance to dark matter \\nThe Bullet Cluster provides the best current evidence for the nature of dark matter and provides \"evidence against some of the more popular versions of Modified Newtonian dynamics (MOND)\" as applied to large galactic clusters.', 'While almost all astrophysicists today reject MOND in favor of dark matter, a small number of researchers continue to enhance it, recently incorporating Brans–Dicke theories into treatments that attempt to account for cosmological observations.', 'Large scale galaxy surveys in the 2000s revealed a baryon deficit.', 'A large majority of astronomers and astrophysicists support the ΛCDM model or close relatives of it, but Milgrom, McGaugh, and Kroupa are leading critics, attacking the dark matter portions of the theory from the perspective of galaxy formation models and supporting the alternative modified Newtonian dynamics (MOND) theory, which requires a modification of the Einstein field equations and the Friedmann equations as seen in proposals such as modified gravity theory (MOG theory) or tensor–vector–scalar gravity theory (TeVeS theory).', 'Topics investigated include quintessence, Modified Newtonian Dynamics (MOND) and its relativistic generalization TeVeS, and warm dark matter.', 'However, cosmological simulations within a Lambda-CDM framework that include baryonic feedback effects reproduce the same relation, without the need to invoke new dynamics (such as MOND).', 'It is currently debated whether this discrepancy is a consequence of the nature of the dark matter, of the influence of dynamical processes during galaxy formation, or of shortcomings in dynamical modelling of the observational data.', 'Alternatives to the dark matter hypothesis include a modification of gravity at small accelerations (MOND) or an effect from brane cosmology.', 'In theories without dark matter, such as Modified Newtonian dynamics (MOND), the lensing would be expected to follow the baryonic matter; i.e. the X-ray gas.', 'Missing baryon problem\\n\\nMassimo Persic and Paolo Salucci first estimated the baryonic density today present in ellipticals, spirals, groups and clusters of galaxies.', 'Observations for dispersion from fast radios bursts in 2020, further appeared to confirm the missing baryonic mass to be located at the WHIM.', 'This discrepancy is commonly known as the missing baryon problem.', 'In cosmology, the missing baryon problem is an observed discrepancy between the amount of baryonic matter detected from shortly after the Big Bang and from more recent epochs.', 'A comprehensive determination of the galaxy stellar mass function to Magellanic Cloud masses to constrain baryonic feedback processes.', \"The gravitational force law obtained from MOND, \\n\\nhas a serious defect: it violates Newton's third law of motion, and therefore fails to conserve momentum and energy.\", 'At a statistical significance of 8, it was found that the spatial offset of the center of the total mass from the center of the baryonic mass peaks cannot be explained with an alteration of the gravitational force law alone.', 'At a statistical significance of 8σ, it was found that the spatial offset of the center of the total mass from the center of the baryonic mass peaks cannot be explained with an alteration of the gravitational force law.', 'The missing baryon problem is different from the dark matter problem, which is non-baryonic in nature.', 'Both indicate that the amount of baryonic dark matter is much smaller than the total amount of dark matter.', 'Of the possible alternatives, one of the most notable is modified newtonian dynamics (MOND), which involves modifying the laws of gravity.', 'Cosmological hydrodynamical simulations from theory predict that a fraction of the missing baryons are located in the galactic halo at temperatures of 106 K and the (WHIM) at temperatures of 105–107\\xa0K, with recent observations providing strong support.', 'A significant discrepancy exists between the experimental curves observed, and a curve derived by applying gravity theory to the matter observed in a galaxy.']\n"
     ]
    }
   ],
   "source": [
    "print(pred_text[0].split('<recall_wiki_text>')) "
   ]
  },
  {
   "cell_type": "code",
   "execution_count": 14,
   "id": "e323c6b9-31e5-4f7c-a1c0-ce8d47c09da3",
   "metadata": {
    "tags": []
   },
   "outputs": [
    {
     "data": {
      "text/plain": [
       "53190"
      ]
     },
     "execution_count": 14,
     "metadata": {},
     "output_type": "execute_result"
    }
   ],
   "source": [
    "len(pred_final)"
   ]
  },
  {
   "cell_type": "code",
   "execution_count": 13,
   "id": "dc4668e4-555c-4ce5-94ac-d3af98ea987e",
   "metadata": {
    "tags": []
   },
   "outputs": [
    {
     "data": {
      "text/plain": [
       "56095"
      ]
     },
     "execution_count": 13,
     "metadata": {},
     "output_type": "execute_result"
    }
   ],
   "source": [
    "len(dev_df)"
   ]
  },
  {
   "cell_type": "code",
   "execution_count": 21,
   "id": "d3879352-7549-443b-9ce7-716eeeaccefe",
   "metadata": {
    "tags": []
   },
   "outputs": [
    {
     "data": {
      "text/html": [
       "<div>\n",
       "<style scoped>\n",
       "    .dataframe tbody tr th:only-of-type {\n",
       "        vertical-align: middle;\n",
       "    }\n",
       "\n",
       "    .dataframe tbody tr th {\n",
       "        vertical-align: top;\n",
       "    }\n",
       "\n",
       "    .dataframe thead th {\n",
       "        text-align: right;\n",
       "    }\n",
       "</style>\n",
       "<table border=\"1\" class=\"dataframe\">\n",
       "  <thead>\n",
       "    <tr style=\"text-align: right;\">\n",
       "      <th></th>\n",
       "      <th>prompt</th>\n",
       "      <th>A</th>\n",
       "      <th>B</th>\n",
       "      <th>C</th>\n",
       "      <th>D</th>\n",
       "      <th>E</th>\n",
       "      <th>answer</th>\n",
       "      <th>is_train</th>\n",
       "      <th>recall_ids</th>\n",
       "      <th>recall_text</th>\n",
       "    </tr>\n",
       "  </thead>\n",
       "  <tbody>\n",
       "    <tr>\n",
       "      <th>0</th>\n",
       "      <td>What is the molecular weight of the Stomatin p...</td>\n",
       "      <td>Stomatin is a 21 kDa integral membrane protein...</td>\n",
       "      <td>Stomatin is a 31 kDa integral membrane protein...</td>\n",
       "      <td>Stomatin is a 31 kDa integral membrane protein...</td>\n",
       "      <td>Stomatin is a 41 kDa integral membrane protein...</td>\n",
       "      <td>Stomatin is a 31 kDa integral membrane protein...</td>\n",
       "      <td>B</td>\n",
       "      <td>1</td>\n",
       "      <td>https://en.wikipedia.org/wiki/Stomatin https:/...</td>\n",
       "      <td>Although the wide distribution of stomatin and...</td>\n",
       "    </tr>\n",
       "    <tr>\n",
       "      <th>1</th>\n",
       "      <td>What is the potential role of Stomatin in cell...</td>\n",
       "      <td>Stomatin may play a role in the formation of m...</td>\n",
       "      <td>Stomatin may play a role in the formation of c...</td>\n",
       "      <td>Stomatin may play a role in the formation of c...</td>\n",
       "      <td>Stomatin may play a role in the formation of c...</td>\n",
       "      <td>Stomatin may play a role in the formation of c...</td>\n",
       "      <td>A</td>\n",
       "      <td>1</td>\n",
       "      <td>https://en.wikipedia.org/wiki/Stomatin https:/...</td>\n",
       "      <td>Although the wide distribution of stomatin and...</td>\n",
       "    </tr>\n",
       "    <tr>\n",
       "      <th>2</th>\n",
       "      <td>What is the condition associated with the loss...</td>\n",
       "      <td>Loss of localization of the Stomatin protein i...</td>\n",
       "      <td>Loss of localization of the Stomatin protein i...</td>\n",
       "      <td>Loss of localization of the Stomatin protein i...</td>\n",
       "      <td>Loss of localization of the Stomatin protein i...</td>\n",
       "      <td>Loss of localization of the Stomatin protein i...</td>\n",
       "      <td>A</td>\n",
       "      <td>1</td>\n",
       "      <td>https://en.wikipedia.org/wiki/Stomatin https:/...</td>\n",
       "      <td>Although the wide distribution of stomatin and...</td>\n",
       "    </tr>\n",
       "    <tr>\n",
       "      <th>3</th>\n",
       "      <td>What is the encoded protein by the STOM gene i...</td>\n",
       "      <td>The STOM gene in humans encodes for the protei...</td>\n",
       "      <td>The STOM gene in humans encodes for the protei...</td>\n",
       "      <td>The STOM gene in humans encodes for the protei...</td>\n",
       "      <td>The STOM gene in humans encodes for the protei...</td>\n",
       "      <td>The STOM gene in humans encodes for the protei...</td>\n",
       "      <td>C</td>\n",
       "      <td>1</td>\n",
       "      <td>https://en.wikipedia.org/wiki/GLUT1 https://en...</td>\n",
       "      <td>This protein interacts with STOM.&lt;recall_wiki_...</td>\n",
       "    </tr>\n",
       "    <tr>\n",
       "      <th>4</th>\n",
       "      <td>Where does the Stomatin protein localize in th...</td>\n",
       "      <td>Stomatin protein localizes to the cell nucleus...</td>\n",
       "      <td>Stomatin protein localizes to the cell mitocho...</td>\n",
       "      <td>Stomatin protein localizes to the cell ribosom...</td>\n",
       "      <td>Stomatin protein localizes to the cell membran...</td>\n",
       "      <td>Stomatin protein localizes to the cell lysosom...</td>\n",
       "      <td>D</td>\n",
       "      <td>1</td>\n",
       "      <td>https://en.wikipedia.org/wiki/Stomatin https:/...</td>\n",
       "      <td>Although the wide distribution of stomatin and...</td>\n",
       "    </tr>\n",
       "    <tr>\n",
       "      <th>...</th>\n",
       "      <td>...</td>\n",
       "      <td>...</td>\n",
       "      <td>...</td>\n",
       "      <td>...</td>\n",
       "      <td>...</td>\n",
       "      <td>...</td>\n",
       "      <td>...</td>\n",
       "      <td>...</td>\n",
       "      <td>...</td>\n",
       "      <td>...</td>\n",
       "    </tr>\n",
       "    <tr>\n",
       "      <th>56090</th>\n",
       "      <td>What is the relation between the three moment ...</td>\n",
       "      <td>The three moment theorem expresses the relatio...</td>\n",
       "      <td>The three moment theorem is used to calculate ...</td>\n",
       "      <td>The three moment theorem describes the relatio...</td>\n",
       "      <td>The three moment theorem is used to calculate ...</td>\n",
       "      <td>The three moment theorem is used to derive the...</td>\n",
       "      <td>C</td>\n",
       "      <td>0</td>\n",
       "      <td>https://en.wikipedia.org/wiki/Theorem%20of%20t...</td>\n",
       "      <td>The deflection of k1 and k2 relative to the po...</td>\n",
       "    </tr>\n",
       "    <tr>\n",
       "      <th>56091</th>\n",
       "      <td>What is the throttling process, and why is it ...</td>\n",
       "      <td>The throttling process is a steady flow of a f...</td>\n",
       "      <td>The throttling process is a steady adiabatic f...</td>\n",
       "      <td>The throttling process is a steady adiabatic f...</td>\n",
       "      <td>The throttling process is a steady flow of a f...</td>\n",
       "      <td>The throttling process is a steady adiabatic f...</td>\n",
       "      <td>B</td>\n",
       "      <td>0</td>\n",
       "      <td>https://en.wikipedia.org/wiki/Joule%E2%80%93Th...</td>\n",
       "      <td>Throttling is a fundamentally irreversible pro...</td>\n",
       "    </tr>\n",
       "    <tr>\n",
       "      <th>56092</th>\n",
       "      <td>What happens to excess base metal as a solutio...</td>\n",
       "      <td>The excess base metal will often solidify, bec...</td>\n",
       "      <td>The excess base metal will often crystallize-o...</td>\n",
       "      <td>The excess base metal will often dissolve, bec...</td>\n",
       "      <td>The excess base metal will often liquefy, beco...</td>\n",
       "      <td>The excess base metal will often evaporate, be...</td>\n",
       "      <td>B</td>\n",
       "      <td>0</td>\n",
       "      <td>https://en.wikipedia.org/wiki/Enthalpy%20chang...</td>\n",
       "      <td>The temperature of the solution eventually dec...</td>\n",
       "    </tr>\n",
       "    <tr>\n",
       "      <th>56093</th>\n",
       "      <td>What is the relationship between mass, force, ...</td>\n",
       "      <td>Mass is a property that determines the weight ...</td>\n",
       "      <td>Mass is an inertial property that determines a...</td>\n",
       "      <td>Mass is an inertial property that determines a...</td>\n",
       "      <td>Mass is an inertial property that determines a...</td>\n",
       "      <td>Mass is a property that determines the size of...</td>\n",
       "      <td>D</td>\n",
       "      <td>0</td>\n",
       "      <td>https://en.wikipedia.org/wiki/Force https://en...</td>\n",
       "      <td>Newton's second law asserts the direct proport...</td>\n",
       "    </tr>\n",
       "    <tr>\n",
       "      <th>56094</th>\n",
       "      <td>What did Arthur Eddington discover about two o...</td>\n",
       "      <td>Arthur Eddington showed that two of Einstein's...</td>\n",
       "      <td>Arthur Eddington showed that two of Einstein's...</td>\n",
       "      <td>Arthur Eddington showed that two of Einstein's...</td>\n",
       "      <td>Arthur Eddington showed that two of Einstein's...</td>\n",
       "      <td>Arthur Eddington showed that two of Einstein's...</td>\n",
       "      <td>C</td>\n",
       "      <td>0</td>\n",
       "      <td>https://en.wikipedia.org/wiki/First%20observat...</td>\n",
       "      <td>Gravitational waves\\n\\nAlbert Einstein origina...</td>\n",
       "    </tr>\n",
       "  </tbody>\n",
       "</table>\n",
       "<p>56095 rows × 10 columns</p>\n",
       "</div>"
      ],
      "text/plain": [
       "                                                  prompt  \\\n",
       "0      What is the molecular weight of the Stomatin p...   \n",
       "1      What is the potential role of Stomatin in cell...   \n",
       "2      What is the condition associated with the loss...   \n",
       "3      What is the encoded protein by the STOM gene i...   \n",
       "4      Where does the Stomatin protein localize in th...   \n",
       "...                                                  ...   \n",
       "56090  What is the relation between the three moment ...   \n",
       "56091  What is the throttling process, and why is it ...   \n",
       "56092  What happens to excess base metal as a solutio...   \n",
       "56093  What is the relationship between mass, force, ...   \n",
       "56094  What did Arthur Eddington discover about two o...   \n",
       "\n",
       "                                                       A  \\\n",
       "0      Stomatin is a 21 kDa integral membrane protein...   \n",
       "1      Stomatin may play a role in the formation of m...   \n",
       "2      Loss of localization of the Stomatin protein i...   \n",
       "3      The STOM gene in humans encodes for the protei...   \n",
       "4      Stomatin protein localizes to the cell nucleus...   \n",
       "...                                                  ...   \n",
       "56090  The three moment theorem expresses the relatio...   \n",
       "56091  The throttling process is a steady flow of a f...   \n",
       "56092  The excess base metal will often solidify, bec...   \n",
       "56093  Mass is a property that determines the weight ...   \n",
       "56094  Arthur Eddington showed that two of Einstein's...   \n",
       "\n",
       "                                                       B  \\\n",
       "0      Stomatin is a 31 kDa integral membrane protein...   \n",
       "1      Stomatin may play a role in the formation of c...   \n",
       "2      Loss of localization of the Stomatin protein i...   \n",
       "3      The STOM gene in humans encodes for the protei...   \n",
       "4      Stomatin protein localizes to the cell mitocho...   \n",
       "...                                                  ...   \n",
       "56090  The three moment theorem is used to calculate ...   \n",
       "56091  The throttling process is a steady adiabatic f...   \n",
       "56092  The excess base metal will often crystallize-o...   \n",
       "56093  Mass is an inertial property that determines a...   \n",
       "56094  Arthur Eddington showed that two of Einstein's...   \n",
       "\n",
       "                                                       C  \\\n",
       "0      Stomatin is a 31 kDa integral membrane protein...   \n",
       "1      Stomatin may play a role in the formation of c...   \n",
       "2      Loss of localization of the Stomatin protein i...   \n",
       "3      The STOM gene in humans encodes for the protei...   \n",
       "4      Stomatin protein localizes to the cell ribosom...   \n",
       "...                                                  ...   \n",
       "56090  The three moment theorem describes the relatio...   \n",
       "56091  The throttling process is a steady adiabatic f...   \n",
       "56092  The excess base metal will often dissolve, bec...   \n",
       "56093  Mass is an inertial property that determines a...   \n",
       "56094  Arthur Eddington showed that two of Einstein's...   \n",
       "\n",
       "                                                       D  \\\n",
       "0      Stomatin is a 41 kDa integral membrane protein...   \n",
       "1      Stomatin may play a role in the formation of c...   \n",
       "2      Loss of localization of the Stomatin protein i...   \n",
       "3      The STOM gene in humans encodes for the protei...   \n",
       "4      Stomatin protein localizes to the cell membran...   \n",
       "...                                                  ...   \n",
       "56090  The three moment theorem is used to calculate ...   \n",
       "56091  The throttling process is a steady flow of a f...   \n",
       "56092  The excess base metal will often liquefy, beco...   \n",
       "56093  Mass is an inertial property that determines a...   \n",
       "56094  Arthur Eddington showed that two of Einstein's...   \n",
       "\n",
       "                                                       E answer  is_train  \\\n",
       "0      Stomatin is a 31 kDa integral membrane protein...      B         1   \n",
       "1      Stomatin may play a role in the formation of c...      A         1   \n",
       "2      Loss of localization of the Stomatin protein i...      A         1   \n",
       "3      The STOM gene in humans encodes for the protei...      C         1   \n",
       "4      Stomatin protein localizes to the cell lysosom...      D         1   \n",
       "...                                                  ...    ...       ...   \n",
       "56090  The three moment theorem is used to derive the...      C         0   \n",
       "56091  The throttling process is a steady adiabatic f...      B         0   \n",
       "56092  The excess base metal will often evaporate, be...      B         0   \n",
       "56093  Mass is a property that determines the size of...      D         0   \n",
       "56094  Arthur Eddington showed that two of Einstein's...      C         0   \n",
       "\n",
       "                                              recall_ids  \\\n",
       "0      https://en.wikipedia.org/wiki/Stomatin https:/...   \n",
       "1      https://en.wikipedia.org/wiki/Stomatin https:/...   \n",
       "2      https://en.wikipedia.org/wiki/Stomatin https:/...   \n",
       "3      https://en.wikipedia.org/wiki/GLUT1 https://en...   \n",
       "4      https://en.wikipedia.org/wiki/Stomatin https:/...   \n",
       "...                                                  ...   \n",
       "56090  https://en.wikipedia.org/wiki/Theorem%20of%20t...   \n",
       "56091  https://en.wikipedia.org/wiki/Joule%E2%80%93Th...   \n",
       "56092  https://en.wikipedia.org/wiki/Enthalpy%20chang...   \n",
       "56093  https://en.wikipedia.org/wiki/Force https://en...   \n",
       "56094  https://en.wikipedia.org/wiki/First%20observat...   \n",
       "\n",
       "                                             recall_text  \n",
       "0      Although the wide distribution of stomatin and...  \n",
       "1      Although the wide distribution of stomatin and...  \n",
       "2      Although the wide distribution of stomatin and...  \n",
       "3      This protein interacts with STOM.<recall_wiki_...  \n",
       "4      Although the wide distribution of stomatin and...  \n",
       "...                                                  ...  \n",
       "56090  The deflection of k1 and k2 relative to the po...  \n",
       "56091  Throttling is a fundamentally irreversible pro...  \n",
       "56092  The temperature of the solution eventually dec...  \n",
       "56093  Newton's second law asserts the direct proport...  \n",
       "56094  Gravitational waves\\n\\nAlbert Einstein origina...  \n",
       "\n",
       "[56095 rows x 10 columns]"
      ]
     },
     "execution_count": 21,
     "metadata": {},
     "output_type": "execute_result"
    }
   ],
   "source": [
    "dev_df"
   ]
  },
  {
   "cell_type": "code",
   "execution_count": null,
   "id": "f9f206a7-462d-4c38-b8e1-57d214012ec3",
   "metadata": {
    "tags": []
   },
   "outputs": [],
   "source": [
    "dev_df.to_parquet('all_train_with_retrive.parquet')"
   ]
  },
  {
   "cell_type": "code",
   "execution_count": 25,
   "id": "b44d267a-3661-46b6-824e-c9b08f2744f1",
   "metadata": {
    "tags": []
   },
   "outputs": [
    {
     "data": {
      "text/plain": [
       "\"What is the characteristic of the marginal distributions of Mardia's Multivariate Pareto distribution of the First Kind?\""
      ]
     },
     "execution_count": 25,
     "metadata": {},
     "output_type": "execute_result"
    }
   ],
   "source": [
    "dev_df.iloc[123,0]"
   ]
  },
  {
   "cell_type": "code",
   "execution_count": 26,
   "id": "bf4f6b2c-0167-4081-bd5b-db4e8652cfe2",
   "metadata": {
    "tags": []
   },
   "outputs": [
    {
     "name": "stdout",
     "output_type": "stream",
     "text": [
      "[\"Multivariate Pareto distributions\\n\\nMultivariate Pareto distribution of the first kind\\n\\nMardia's Multivariate Pareto distribution of the First Kind has the joint probability density function given by\\n\\nThe marginal distributions have the same form as (1), and the one-dimensional marginal distributions have a Pareto Type I distribution.\", 'Bivariate Pareto distributions\\n\\nBivariate Pareto distribution of the first kind\\n\\nMardia (1962) defined a bivariate distribution with cumulative distribution function (CDF) given by\\n\\nand joint density function\\n\\n \\nThe marginal distributions are Pareto Type 1 with density functions\\n\\n \\n\\nThe means and variances of the marginal distributions are\\n\\nand for a > 2, X1 and X2 are positively correlated with\\n\\nBivariate Pareto distribution of the second kind\\n\\nArnold   suggests representing the bivariate Pareto Type I complementary CDF by\\n\\nIf the location and scale parameter are allowed to differ, the complementary CDF is\\n\\nwhich has Pareto Type II univariate marginal distributions.', 'Multivariate Pareto distributions have been defined for many of these types.', \"(This definition is not equivalent to Mardia's bivariate Pareto distribution of the second kind.)\", 'For a > 1, the marginal means are\\n\\nwhile for a > 2, the variances, covariances, and correlations are the same as for multivariate Pareto of the first kind.', 'For a > 1, the marginal means are\\n\\nwhile for a > 2, the variances, covariance, and correlation are the same as for multivariate Pareto of the first kind.', 'In statistics, a multivariate Pareto distribution is a multivariate extension of a univariate Pareto distribution.', 'This distribution is called a multivariate Pareto distribution of type II by Arnold.', 'This distribution is called a multivariate Pareto distribution of type II by Arnold.', 'Multivariate Pareto distribution of the fourth kind\\nA random vector X has a k-dimensional multivariate Pareto distribution of the Fourth Kind if its joint survival function is\\n\\nThe k1-dimensional marginal distributions (k1<k) are of the same type as (4), and the one-dimensional marginal distributions are Pareto Type IV.', 'The marginal distributions and conditional distributions are of the same type (5); that is, they are multivariate Feller–Pareto distributions.', \"Mardia's multivariate skewness and kurtosis tests generalize the moment tests to the multivariate case.\", 'The complementary CDF is\\n\\nThe marginal means and variances are given by\\n\\nIf a > 2 the covariances and correlations are positive with\\n\\nMultivariate Pareto distribution of the second kind\\n\\nArnold suggests representing the multivariate Pareto Type I complementary CDF by\\n\\nIf the location and scale parameter are allowed to differ, the complementary CDF is\\n\\nwhich has marginal distributions of the same type (3) and Pareto Type II univariate marginal distributions.', 'There are several different types of univariate Pareto distributions including Pareto Types I−IV and Feller−Pareto.', 'The one–dimensional marginal distributions are of Feller−Pareto  type.', 'The general bivariate von Mises distribution was first proposed by Kanti Mardia in 1975.', 'The multivariate normal distribution is a special case of the elliptical distributions.', 'The simplest heavy-tail distribution is the Pareto distribution which is hyperbolic over its entire range.', 'Complementary distribution functions for the exponential and Pareto distributions are shown below.', 'The Pareto distribution.', 'The Pareto distribution.', 'The marginal distribution over  is a multivariate t-distribution.', 'The marginal distribution over  is a multivariate t-distribution.', 'Generalized Pareto distribution: S is defined only when the shape parameter ( k ) is < 1/2.', \"Multivariate Feller–Pareto distribution\\nA random vector X has a k''-dimensional Feller–Pareto distribution if\\n\\nwhere\\n\\nare independent gamma variables.\", 'Analogously, for a random variable X following the Pareto distribution with parameters K and A  (see Pareto example for more detail of this case),\\n\\nand\\n\\ncan be used as joint statistics for these parameters.', 'All three of these distributions are special cases of the Panjer distribution.', 'Special cases of generalized Pareto distribution\\n Exponential distribution with mean ,  if k\\xa0=\\xa00.', '(The distribution of higher-income individuals follows a Pareto distribution).', 'Properties\\n\\nScaling\\n\\nMarginal distributions\\nBy construction, the marginal distribution over  is an inverse Wishart distribution, and the conditional distribution over  given  is a multivariate normal distribution.']\n"
     ]
    }
   ],
   "source": [
    "print(dev_df.iloc[123,-1].split('<recall_wiki_text>'))"
   ]
  },
  {
   "cell_type": "code",
   "execution_count": 27,
   "id": "287ed82d-0ec6-4796-b68f-9c700f3873c1",
   "metadata": {
    "tags": []
   },
   "outputs": [],
   "source": [
    "dev_df['length'] = dev_df['recall_text'].apply(lambda x:len(x.split()))"
   ]
  },
  {
   "cell_type": "code",
   "execution_count": 30,
   "id": "e654ad0e-8f1b-4cdd-a873-48ad69406547",
   "metadata": {
    "tags": []
   },
   "outputs": [
    {
     "data": {
      "text/plain": [
       "0"
      ]
     },
     "execution_count": 30,
     "metadata": {},
     "output_type": "execute_result"
    }
   ],
   "source": [
    "dev_df['recall_text'].isna().sum()"
   ]
  },
  {
   "cell_type": "code",
   "execution_count": 31,
   "id": "0053f7a4-43c0-4bd2-921e-e86d81ba798e",
   "metadata": {
    "tags": []
   },
   "outputs": [
    {
     "data": {
      "text/plain": [
       "count    56095.000000\n",
       "mean       565.878599\n",
       "std        274.623093\n",
       "min         78.000000\n",
       "25%        448.000000\n",
       "50%        531.000000\n",
       "75%        629.000000\n",
       "max      16483.000000\n",
       "Name: length, dtype: float64"
      ]
     },
     "execution_count": 31,
     "metadata": {},
     "output_type": "execute_result"
    }
   ],
   "source": [
    "dev_df['length'].describe()"
   ]
  },
  {
   "cell_type": "code",
   "execution_count": 4,
   "id": "0263b4fc-913a-403a-83aa-3538ca6bb47f",
   "metadata": {
    "tags": []
   },
   "outputs": [],
   "source": [
    "prompt_values = dev_df['prompt'].values.tolist()"
   ]
  },
  {
   "cell_type": "code",
   "execution_count": 24,
   "id": "62741e96-fb26-49d9-b2dd-17b3f93734bb",
   "metadata": {
    "tags": []
   },
   "outputs": [
    {
     "data": {
      "text/plain": [
       "56095"
      ]
     },
     "execution_count": 24,
     "metadata": {},
     "output_type": "execute_result"
    }
   ],
   "source": [
    "len(dev_df)"
   ]
  },
  {
   "cell_type": "code",
   "execution_count": 6,
   "id": "a94c14be-fabb-465f-a21a-040ab08fcea0",
   "metadata": {
    "tags": []
   },
   "outputs": [],
   "source": [
    "# 算分环节\n",
    "dev_df['recall_ids'] = pred_final\n",
    "# df_metric = dev_df.copy()\n",
    "# df_metric['content_ids'] = df_metric['url']"
   ]
  },
  {
   "cell_type": "code",
   "execution_count": 32,
   "id": "220c09f6-a04e-4770-8425-94219546e596",
   "metadata": {
    "tags": []
   },
   "outputs": [],
   "source": [
    "corpus = pd.read_parquet('wiki_sci_text_sentence.parquet')"
   ]
  },
  {
   "cell_type": "code",
   "execution_count": 33,
   "id": "8cf0c531-7c19-44f2-919b-512ce89924a9",
   "metadata": {
    "tags": []
   },
   "outputs": [
    {
     "data": {
      "text/html": [
       "<div>\n",
       "<style scoped>\n",
       "    .dataframe tbody tr th:only-of-type {\n",
       "        vertical-align: middle;\n",
       "    }\n",
       "\n",
       "    .dataframe tbody tr th {\n",
       "        vertical-align: top;\n",
       "    }\n",
       "\n",
       "    .dataframe thead th {\n",
       "        text-align: right;\n",
       "    }\n",
       "</style>\n",
       "<table border=\"1\" class=\"dataframe\">\n",
       "  <thead>\n",
       "    <tr style=\"text-align: right;\">\n",
       "      <th></th>\n",
       "      <th>text</th>\n",
       "      <th>url</th>\n",
       "      <th>title</th>\n",
       "      <th>sentence</th>\n",
       "    </tr>\n",
       "  </thead>\n",
       "  <tbody>\n",
       "    <tr>\n",
       "      <th>0</th>\n",
       "      <td>Stomatin also known as human erythrocyte integ...</td>\n",
       "      <td>https://en.wikipedia.org/wiki/Stomatin</td>\n",
       "      <td>Stomatin</td>\n",
       "      <td>Stomatin also known as human erythrocyte integ...</td>\n",
       "    </tr>\n",
       "    <tr>\n",
       "      <th>1</th>\n",
       "      <td>Stomatin also known as human erythrocyte integ...</td>\n",
       "      <td>https://en.wikipedia.org/wiki/Stomatin</td>\n",
       "      <td>Stomatin</td>\n",
       "      <td>Clinical significance \\n\\nStomatin is a 31 kDa...</td>\n",
       "    </tr>\n",
       "    <tr>\n",
       "      <th>2</th>\n",
       "      <td>Stomatin also known as human erythrocyte integ...</td>\n",
       "      <td>https://en.wikipedia.org/wiki/Stomatin</td>\n",
       "      <td>Stomatin</td>\n",
       "      <td>This gene encodes a member of a highly conserv...</td>\n",
       "    </tr>\n",
       "    <tr>\n",
       "      <th>3</th>\n",
       "      <td>Stomatin also known as human erythrocyte integ...</td>\n",
       "      <td>https://en.wikipedia.org/wiki/Stomatin</td>\n",
       "      <td>Stomatin</td>\n",
       "      <td>The encoded protein localizes to the cell memb...</td>\n",
       "    </tr>\n",
       "    <tr>\n",
       "      <th>4</th>\n",
       "      <td>Stomatin also known as human erythrocyte integ...</td>\n",
       "      <td>https://en.wikipedia.org/wiki/Stomatin</td>\n",
       "      <td>Stomatin</td>\n",
       "      <td>Loss of localization of the encoded protein is...</td>\n",
       "    </tr>\n",
       "    <tr>\n",
       "      <th>...</th>\n",
       "      <td>...</td>\n",
       "      <td>...</td>\n",
       "      <td>...</td>\n",
       "      <td>...</td>\n",
       "    </tr>\n",
       "    <tr>\n",
       "      <th>4086351</th>\n",
       "      <td>Active rectification, or synchronous rectifica...</td>\n",
       "      <td>https://en.wikipedia.org/wiki/Active%20rectifi...</td>\n",
       "      <td>Active rectification</td>\n",
       "      <td>IEE Proceedings - Electric Power Applications,...</td>\n",
       "    </tr>\n",
       "    <tr>\n",
       "      <th>4086352</th>\n",
       "      <td>Active rectification, or synchronous rectifica...</td>\n",
       "      <td>https://en.wikipedia.org/wiki/Active%20rectifi...</td>\n",
       "      <td>Active rectification</td>\n",
       "      <td>Digital Object Identifier:10.1049/ip-epa:19990...</td>\n",
       "    </tr>\n",
       "    <tr>\n",
       "      <th>4086353</th>\n",
       "      <td>Active rectification, or synchronous rectifica...</td>\n",
       "      <td>https://en.wikipedia.org/wiki/Active%20rectifi...</td>\n",
       "      <td>Active rectification</td>\n",
       "      <td>Santiago, A. Birchenough. (2005).</td>\n",
       "    </tr>\n",
       "    <tr>\n",
       "      <th>4086354</th>\n",
       "      <td>Active rectification, or synchronous rectifica...</td>\n",
       "      <td>https://en.wikipedia.org/wiki/Active%20rectifi...</td>\n",
       "      <td>Active rectification</td>\n",
       "      <td>Single Phase Passive Rectification versus Acti...</td>\n",
       "    </tr>\n",
       "    <tr>\n",
       "      <th>4086355</th>\n",
       "      <td>Active rectification, or synchronous rectifica...</td>\n",
       "      <td>https://en.wikipedia.org/wiki/Active%20rectifi...</td>\n",
       "      <td>Active rectification</td>\n",
       "      <td>Rectifiers\\n\\nde:Gleichrichter#Synchrongleichr...</td>\n",
       "    </tr>\n",
       "  </tbody>\n",
       "</table>\n",
       "<p>4086356 rows × 4 columns</p>\n",
       "</div>"
      ],
      "text/plain": [
       "                                                      text  \\\n",
       "0        Stomatin also known as human erythrocyte integ...   \n",
       "1        Stomatin also known as human erythrocyte integ...   \n",
       "2        Stomatin also known as human erythrocyte integ...   \n",
       "3        Stomatin also known as human erythrocyte integ...   \n",
       "4        Stomatin also known as human erythrocyte integ...   \n",
       "...                                                    ...   \n",
       "4086351  Active rectification, or synchronous rectifica...   \n",
       "4086352  Active rectification, or synchronous rectifica...   \n",
       "4086353  Active rectification, or synchronous rectifica...   \n",
       "4086354  Active rectification, or synchronous rectifica...   \n",
       "4086355  Active rectification, or synchronous rectifica...   \n",
       "\n",
       "                                                       url  \\\n",
       "0                   https://en.wikipedia.org/wiki/Stomatin   \n",
       "1                   https://en.wikipedia.org/wiki/Stomatin   \n",
       "2                   https://en.wikipedia.org/wiki/Stomatin   \n",
       "3                   https://en.wikipedia.org/wiki/Stomatin   \n",
       "4                   https://en.wikipedia.org/wiki/Stomatin   \n",
       "...                                                    ...   \n",
       "4086351  https://en.wikipedia.org/wiki/Active%20rectifi...   \n",
       "4086352  https://en.wikipedia.org/wiki/Active%20rectifi...   \n",
       "4086353  https://en.wikipedia.org/wiki/Active%20rectifi...   \n",
       "4086354  https://en.wikipedia.org/wiki/Active%20rectifi...   \n",
       "4086355  https://en.wikipedia.org/wiki/Active%20rectifi...   \n",
       "\n",
       "                        title  \\\n",
       "0                    Stomatin   \n",
       "1                    Stomatin   \n",
       "2                    Stomatin   \n",
       "3                    Stomatin   \n",
       "4                    Stomatin   \n",
       "...                       ...   \n",
       "4086351  Active rectification   \n",
       "4086352  Active rectification   \n",
       "4086353  Active rectification   \n",
       "4086354  Active rectification   \n",
       "4086355  Active rectification   \n",
       "\n",
       "                                                  sentence  \n",
       "0        Stomatin also known as human erythrocyte integ...  \n",
       "1        Clinical significance \\n\\nStomatin is a 31 kDa...  \n",
       "2        This gene encodes a member of a highly conserv...  \n",
       "3        The encoded protein localizes to the cell memb...  \n",
       "4        Loss of localization of the encoded protein is...  \n",
       "...                                                    ...  \n",
       "4086351  IEE Proceedings - Electric Power Applications,...  \n",
       "4086352  Digital Object Identifier:10.1049/ip-epa:19990...  \n",
       "4086353                  Santiago, A. Birchenough. (2005).  \n",
       "4086354  Single Phase Passive Rectification versus Acti...  \n",
       "4086355  Rectifiers\\n\\nde:Gleichrichter#Synchrongleichr...  \n",
       "\n",
       "[4086356 rows x 4 columns]"
      ]
     },
     "execution_count": 33,
     "metadata": {},
     "output_type": "execute_result"
    }
   ],
   "source": [
    "corpus"
   ]
  },
  {
   "cell_type": "code",
   "execution_count": null,
   "id": "97cb6f67-1113-4357-8e34-77cac6e13a1e",
   "metadata": {},
   "outputs": [],
   "source": [
    "corpus.to_parquet('wiki_sci_text_sentence_without_text.parquet')"
   ]
  },
  {
   "cell_type": "code",
   "execution_count": 7,
   "id": "21936112-a486-427a-8379-50e09807ff82",
   "metadata": {
    "tags": []
   },
   "outputs": [],
   "source": [
    "# def get_pos_score(y_true, y_pred, top_n):\n",
    "#     y_true = y_true.apply(lambda x: set(x.split()))\n",
    "#     y_pred = y_pred.apply(lambda x: set(x.split()[:top_n]))\n",
    "#     int_true = np.array([len(x[0] & x[1]) / len(x[0]) for x in zip(y_true, y_pred)])\n",
    "#     return round(np.mean(int_true), 5)\n",
    "\n",
    "# pos_score = get_pos_score(df_metric['content_ids'], df_metric['recall_ids'], 50)\n",
    "# print(f'Our max positive score top 50 is {pos_score}')\n",
    "\n",
    "# pos_score = get_pos_score(df_metric['content_ids'], df_metric['recall_ids'], 70)\n",
    "# print(f'Our max positive score top 70 is {pos_score}')\n",
    "\n",
    "# pos_score = get_pos_score(df_metric['content_ids'], df_metric['recall_ids'], 100)\n",
    "# print(f'Our max positive score top 100 is {pos_score}')\n",
    "\n",
    "# pos_score = get_pos_score(df_metric['content_ids'], df_metric['recall_ids'], 150)\n",
    "# print(f'Our max positive score top 150 is {pos_score}')\n",
    "\n",
    "# pos_score = get_pos_score(df_metric['content_ids'], df_metric['recall_ids'], 200)\n",
    "# print(f'Our max positive score top 200 is {pos_score}')\n",
    "\n",
    "# df_metric['content_ids'] = df_metric['content_ids'].astype(str).apply(lambda x: x.split())\n",
    "# df_metric['recall_ids'] = df_metric['recall_ids'].astype(str).apply(lambda x: x.split())\n",
    "# f2_scores = []\n",
    "\n",
    "# N_RECALLS = [3, 5, 10, 30, 50, 100, 200, 300, 400, 500, 600]\n",
    "# N_TOP_F2 = [5, 10, 15]\n",
    "# # for n_top in N_TOP_F2:\n",
    "# #     for _, row in tqdm(df_metric.iterrows(), total=len(df_metric)):\n",
    "# #         true_ids = set(row['content_ids'])\n",
    "# #         pred_ids = set(row['recall_ids'][:n_top])\n",
    "# #         tp = len(true_ids.intersection(pred_ids))\n",
    "# #         fp = len(pred_ids - true_ids)\n",
    "# #         fn = len(true_ids - pred_ids)\n",
    "# #         if pred_ids:\n",
    "# #             precision = tp / (tp + fp)\n",
    "# #             recall = tp / (tp + fn)\n",
    "# #             f2 = tp / (tp + 0.2 * fp + 0.8 * fn)\n",
    "# #         else:\n",
    "# #             f2 = 0\n",
    "# #         f2_scores.append(f2)\n",
    "# #     print(f'Average F2@{n_top}:', np.mean(f2_scores))\n",
    "# for n_recall in N_RECALLS:\n",
    "#     total = 0\n",
    "#     correct = 0\n",
    "#     for _, row in tqdm(df_metric.iterrows(), total=len(df_metric)):\n",
    "#         y_trues = row['content_ids']\n",
    "#         y_preds = row['recall_ids'][:n_recall]\n",
    "#         for y_true in y_trues:\n",
    "#             total += 1\n",
    "#             if y_true in y_preds:\n",
    "#                 correct += 1\n",
    "#     print(f'hitrate@{n_recall}:', correct/total)"
   ]
  },
  {
   "cell_type": "code",
   "execution_count": 8,
   "id": "aecdca5b-0533-48f0-ba20-b001283be995",
   "metadata": {},
   "outputs": [],
   "source": [
    "def split_long_doc(text):\n",
    "    max_lenth = 128\n",
    "    window_size=16\n",
    "    text_list = [i for i in text.split() if i]\n",
    "    res = []\n",
    "    \n",
    "    i = 0\n",
    "    while i + window_size < len(text_list):\n",
    "        res.append(' '.join(text_list[i:min(i+max_lenth, len(text_list))]))\n",
    "        i += 64\n",
    "    \n",
    "    return res"
   ]
  },
  {
   "cell_type": "code",
   "execution_count": 9,
   "id": "09a9e4b9-1eeb-4270-bf95-29ce833f0364",
   "metadata": {
    "tags": []
   },
   "outputs": [],
   "source": [
    "dev_df['recall_text'] = dev_df['recall_text'].apply(lambda x:x.split('<recall_wiki_text>'))"
   ]
  },
  {
   "cell_type": "code",
   "execution_count": 10,
   "id": "c1da463f-7e2c-4c49-a802-d4688bca819d",
   "metadata": {
    "tags": []
   },
   "outputs": [],
   "source": [
    "dev_df = dev_df.explode('recall_text')"
   ]
  },
  {
   "cell_type": "code",
   "execution_count": 11,
   "id": "1e8a7746-37e9-4f32-b59c-f142f987de52",
   "metadata": {
    "tags": []
   },
   "outputs": [],
   "source": [
    "dev_df['recall_sentence'] = dev_df['recall_text'].apply(lambda x:split_long_doc(x))"
   ]
  },
  {
   "cell_type": "code",
   "execution_count": 12,
   "id": "4bd9db8a-9c1b-49a0-bf84-9666a6b205c1",
   "metadata": {
    "tags": []
   },
   "outputs": [
    {
     "data": {
      "text/html": [
       "<div>\n",
       "<style scoped>\n",
       "    .dataframe tbody tr th:only-of-type {\n",
       "        vertical-align: middle;\n",
       "    }\n",
       "\n",
       "    .dataframe tbody tr th {\n",
       "        vertical-align: top;\n",
       "    }\n",
       "\n",
       "    .dataframe thead th {\n",
       "        text-align: right;\n",
       "    }\n",
       "</style>\n",
       "<table border=\"1\" class=\"dataframe\">\n",
       "  <thead>\n",
       "    <tr style=\"text-align: right;\">\n",
       "      <th></th>\n",
       "      <th>id</th>\n",
       "      <th>prompt</th>\n",
       "      <th>A</th>\n",
       "      <th>B</th>\n",
       "      <th>C</th>\n",
       "      <th>D</th>\n",
       "      <th>E</th>\n",
       "      <th>answer</th>\n",
       "      <th>recall_ids</th>\n",
       "      <th>recall_text</th>\n",
       "      <th>recall_sentence</th>\n",
       "    </tr>\n",
       "  </thead>\n",
       "  <tbody>\n",
       "    <tr>\n",
       "      <th>0</th>\n",
       "      <td>0</td>\n",
       "      <td>What is the molecular weight of the Stomatin p...</td>\n",
       "      <td>Stomatin is a 21 kDa integral membrane protein...</td>\n",
       "      <td>Stomatin is a 31 kDa integral membrane protein...</td>\n",
       "      <td>Stomatin is a 31 kDa integral membrane protein...</td>\n",
       "      <td>Stomatin is a 41 kDa integral membrane protein...</td>\n",
       "      <td>Stomatin is a 31 kDa integral membrane protein...</td>\n",
       "      <td>B</td>\n",
       "      <td>https://en.wikipedia.org/wiki/Stomatin https:/...</td>\n",
       "      <td>Stomatin also known as human erythrocyte integ...</td>\n",
       "      <td>Stomatin also known as human erythrocyte integ...</td>\n",
       "    </tr>\n",
       "    <tr>\n",
       "      <th>0</th>\n",
       "      <td>0</td>\n",
       "      <td>What is the molecular weight of the Stomatin p...</td>\n",
       "      <td>Stomatin is a 21 kDa integral membrane protein...</td>\n",
       "      <td>Stomatin is a 31 kDa integral membrane protein...</td>\n",
       "      <td>Stomatin is a 31 kDa integral membrane protein...</td>\n",
       "      <td>Stomatin is a 41 kDa integral membrane protein...</td>\n",
       "      <td>Stomatin is a 31 kDa integral membrane protein...</td>\n",
       "      <td>B</td>\n",
       "      <td>https://en.wikipedia.org/wiki/Stomatin https:/...</td>\n",
       "      <td>Stomatin also known as human erythrocyte integ...</td>\n",
       "      <td>of red blood cells and other cell types, where...</td>\n",
       "    </tr>\n",
       "    <tr>\n",
       "      <th>0</th>\n",
       "      <td>0</td>\n",
       "      <td>What is the molecular weight of the Stomatin p...</td>\n",
       "      <td>Stomatin is a 21 kDa integral membrane protein...</td>\n",
       "      <td>Stomatin is a 31 kDa integral membrane protein...</td>\n",
       "      <td>Stomatin is a 31 kDa integral membrane protein...</td>\n",
       "      <td>Stomatin is a 41 kDa integral membrane protein...</td>\n",
       "      <td>Stomatin is a 31 kDa integral membrane protein...</td>\n",
       "      <td>B</td>\n",
       "      <td>https://en.wikipedia.org/wiki/Stomatin https:/...</td>\n",
       "      <td>Stomatin also known as human erythrocyte integ...</td>\n",
       "      <td>where it may regulate ion channels and transpo...</td>\n",
       "    </tr>\n",
       "    <tr>\n",
       "      <th>0</th>\n",
       "      <td>0</td>\n",
       "      <td>What is the molecular weight of the Stomatin p...</td>\n",
       "      <td>Stomatin is a 21 kDa integral membrane protein...</td>\n",
       "      <td>Stomatin is a 31 kDa integral membrane protein...</td>\n",
       "      <td>Stomatin is a 31 kDa integral membrane protein...</td>\n",
       "      <td>Stomatin is a 41 kDa integral membrane protein...</td>\n",
       "      <td>Stomatin is a 31 kDa integral membrane protein...</td>\n",
       "      <td>B</td>\n",
       "      <td>https://en.wikipedia.org/wiki/Stomatin https:/...</td>\n",
       "      <td>Stomatin also known as human erythrocyte integ...</td>\n",
       "      <td>suggests a possible structural role for this p...</td>\n",
       "    </tr>\n",
       "    <tr>\n",
       "      <th>0</th>\n",
       "      <td>0</td>\n",
       "      <td>What is the molecular weight of the Stomatin p...</td>\n",
       "      <td>Stomatin is a 21 kDa integral membrane protein...</td>\n",
       "      <td>Stomatin is a 31 kDa integral membrane protein...</td>\n",
       "      <td>Stomatin is a 31 kDa integral membrane protein...</td>\n",
       "      <td>Stomatin is a 41 kDa integral membrane protein...</td>\n",
       "      <td>Stomatin is a 31 kDa integral membrane protein...</td>\n",
       "      <td>B</td>\n",
       "      <td>https://en.wikipedia.org/wiki/Stomatin https:/...</td>\n",
       "      <td>SH3 and cysteine-rich domain-containing protei...</td>\n",
       "      <td>SH3 and cysteine-rich domain-containing protei...</td>\n",
       "    </tr>\n",
       "    <tr>\n",
       "      <th>...</th>\n",
       "      <td>...</td>\n",
       "      <td>...</td>\n",
       "      <td>...</td>\n",
       "      <td>...</td>\n",
       "      <td>...</td>\n",
       "      <td>...</td>\n",
       "      <td>...</td>\n",
       "      <td>...</td>\n",
       "      <td>...</td>\n",
       "      <td>...</td>\n",
       "      <td>...</td>\n",
       "    </tr>\n",
       "    <tr>\n",
       "      <th>35894</th>\n",
       "      <td>35894</td>\n",
       "      <td>In which conditions was the expression of Smr3...</td>\n",
       "      <td>Bacterial growth in TY, minimal medium (MM) an...</td>\n",
       "      <td>Bacterial growth in TY, minimal medium (MM) an...</td>\n",
       "      <td>Bacterial growth in TY and minimal medium (MM)...</td>\n",
       "      <td>Bacterial growth in TY and luteolin-MM broth o...</td>\n",
       "      <td>Bacterial growth in minimal medium (MM) and lu...</td>\n",
       "      <td>A</td>\n",
       "      <td>https://en.wikipedia.org/wiki/%CE%91r35%20RNA ...</td>\n",
       "      <td>Smaug is a RNA-binding protein in Drosophila t...</td>\n",
       "      <td>Smaug is a RNA-binding protein in Drosophila t...</td>\n",
       "    </tr>\n",
       "    <tr>\n",
       "      <th>35894</th>\n",
       "      <td>35894</td>\n",
       "      <td>In which conditions was the expression of Smr3...</td>\n",
       "      <td>Bacterial growth in TY, minimal medium (MM) an...</td>\n",
       "      <td>Bacterial growth in TY, minimal medium (MM) an...</td>\n",
       "      <td>Bacterial growth in TY and minimal medium (MM)...</td>\n",
       "      <td>Bacterial growth in TY and luteolin-MM broth o...</td>\n",
       "      <td>Bacterial growth in minimal medium (MM) and lu...</td>\n",
       "      <td>A</td>\n",
       "      <td>https://en.wikipedia.org/wiki/%CE%91r35%20RNA ...</td>\n",
       "      <td>Smaug is a RNA-binding protein in Drosophila t...</td>\n",
       "      <td>by maternal mRNAs like Hsp83, nanos, string, P...</td>\n",
       "    </tr>\n",
       "    <tr>\n",
       "      <th>35894</th>\n",
       "      <td>35894</td>\n",
       "      <td>In which conditions was the expression of Smr3...</td>\n",
       "      <td>Bacterial growth in TY, minimal medium (MM) an...</td>\n",
       "      <td>Bacterial growth in TY, minimal medium (MM) an...</td>\n",
       "      <td>Bacterial growth in TY and minimal medium (MM)...</td>\n",
       "      <td>Bacterial growth in TY and luteolin-MM broth o...</td>\n",
       "      <td>Bacterial growth in minimal medium (MM) and lu...</td>\n",
       "      <td>A</td>\n",
       "      <td>https://en.wikipedia.org/wiki/%CE%91r35%20RNA ...</td>\n",
       "      <td>Smaug is a RNA-binding protein in Drosophila t...</td>\n",
       "      <td>of three miRNAs – miR-3, miR-6, miR-309 and mi...</td>\n",
       "    </tr>\n",
       "    <tr>\n",
       "      <th>35894</th>\n",
       "      <td>35894</td>\n",
       "      <td>In which conditions was the expression of Smr3...</td>\n",
       "      <td>Bacterial growth in TY, minimal medium (MM) an...</td>\n",
       "      <td>Bacterial growth in TY, minimal medium (MM) an...</td>\n",
       "      <td>Bacterial growth in TY and minimal medium (MM)...</td>\n",
       "      <td>Bacterial growth in TY and luteolin-MM broth o...</td>\n",
       "      <td>Bacterial growth in minimal medium (MM) and lu...</td>\n",
       "      <td>A</td>\n",
       "      <td>https://en.wikipedia.org/wiki/%CE%91r35%20RNA ...</td>\n",
       "      <td>Smaug is a RNA-binding protein in Drosophila t...</td>\n",
       "      <td>recruiting a protein called Cup (an eIF4E-bind...</td>\n",
       "    </tr>\n",
       "    <tr>\n",
       "      <th>35894</th>\n",
       "      <td>35894</td>\n",
       "      <td>In which conditions was the expression of Smr3...</td>\n",
       "      <td>Bacterial growth in TY, minimal medium (MM) an...</td>\n",
       "      <td>Bacterial growth in TY, minimal medium (MM) an...</td>\n",
       "      <td>Bacterial growth in TY and minimal medium (MM)...</td>\n",
       "      <td>Bacterial growth in TY and luteolin-MM broth o...</td>\n",
       "      <td>Bacterial growth in minimal medium (MM) and lu...</td>\n",
       "      <td>A</td>\n",
       "      <td>https://en.wikipedia.org/wiki/%CE%91r35%20RNA ...</td>\n",
       "      <td>Smaug is a RNA-binding protein in Drosophila t...</td>\n",
       "      <td>homologs are SAMD4A and SAMD4B. References Ext...</td>\n",
       "    </tr>\n",
       "  </tbody>\n",
       "</table>\n",
       "<p>4002830 rows × 11 columns</p>\n",
       "</div>"
      ],
      "text/plain": [
       "          id                                             prompt  \\\n",
       "0          0  What is the molecular weight of the Stomatin p...   \n",
       "0          0  What is the molecular weight of the Stomatin p...   \n",
       "0          0  What is the molecular weight of the Stomatin p...   \n",
       "0          0  What is the molecular weight of the Stomatin p...   \n",
       "0          0  What is the molecular weight of the Stomatin p...   \n",
       "...      ...                                                ...   \n",
       "35894  35894  In which conditions was the expression of Smr3...   \n",
       "35894  35894  In which conditions was the expression of Smr3...   \n",
       "35894  35894  In which conditions was the expression of Smr3...   \n",
       "35894  35894  In which conditions was the expression of Smr3...   \n",
       "35894  35894  In which conditions was the expression of Smr3...   \n",
       "\n",
       "                                                       A  \\\n",
       "0      Stomatin is a 21 kDa integral membrane protein...   \n",
       "0      Stomatin is a 21 kDa integral membrane protein...   \n",
       "0      Stomatin is a 21 kDa integral membrane protein...   \n",
       "0      Stomatin is a 21 kDa integral membrane protein...   \n",
       "0      Stomatin is a 21 kDa integral membrane protein...   \n",
       "...                                                  ...   \n",
       "35894  Bacterial growth in TY, minimal medium (MM) an...   \n",
       "35894  Bacterial growth in TY, minimal medium (MM) an...   \n",
       "35894  Bacterial growth in TY, minimal medium (MM) an...   \n",
       "35894  Bacterial growth in TY, minimal medium (MM) an...   \n",
       "35894  Bacterial growth in TY, minimal medium (MM) an...   \n",
       "\n",
       "                                                       B  \\\n",
       "0      Stomatin is a 31 kDa integral membrane protein...   \n",
       "0      Stomatin is a 31 kDa integral membrane protein...   \n",
       "0      Stomatin is a 31 kDa integral membrane protein...   \n",
       "0      Stomatin is a 31 kDa integral membrane protein...   \n",
       "0      Stomatin is a 31 kDa integral membrane protein...   \n",
       "...                                                  ...   \n",
       "35894  Bacterial growth in TY, minimal medium (MM) an...   \n",
       "35894  Bacterial growth in TY, minimal medium (MM) an...   \n",
       "35894  Bacterial growth in TY, minimal medium (MM) an...   \n",
       "35894  Bacterial growth in TY, minimal medium (MM) an...   \n",
       "35894  Bacterial growth in TY, minimal medium (MM) an...   \n",
       "\n",
       "                                                       C  \\\n",
       "0      Stomatin is a 31 kDa integral membrane protein...   \n",
       "0      Stomatin is a 31 kDa integral membrane protein...   \n",
       "0      Stomatin is a 31 kDa integral membrane protein...   \n",
       "0      Stomatin is a 31 kDa integral membrane protein...   \n",
       "0      Stomatin is a 31 kDa integral membrane protein...   \n",
       "...                                                  ...   \n",
       "35894  Bacterial growth in TY and minimal medium (MM)...   \n",
       "35894  Bacterial growth in TY and minimal medium (MM)...   \n",
       "35894  Bacterial growth in TY and minimal medium (MM)...   \n",
       "35894  Bacterial growth in TY and minimal medium (MM)...   \n",
       "35894  Bacterial growth in TY and minimal medium (MM)...   \n",
       "\n",
       "                                                       D  \\\n",
       "0      Stomatin is a 41 kDa integral membrane protein...   \n",
       "0      Stomatin is a 41 kDa integral membrane protein...   \n",
       "0      Stomatin is a 41 kDa integral membrane protein...   \n",
       "0      Stomatin is a 41 kDa integral membrane protein...   \n",
       "0      Stomatin is a 41 kDa integral membrane protein...   \n",
       "...                                                  ...   \n",
       "35894  Bacterial growth in TY and luteolin-MM broth o...   \n",
       "35894  Bacterial growth in TY and luteolin-MM broth o...   \n",
       "35894  Bacterial growth in TY and luteolin-MM broth o...   \n",
       "35894  Bacterial growth in TY and luteolin-MM broth o...   \n",
       "35894  Bacterial growth in TY and luteolin-MM broth o...   \n",
       "\n",
       "                                                       E answer  \\\n",
       "0      Stomatin is a 31 kDa integral membrane protein...      B   \n",
       "0      Stomatin is a 31 kDa integral membrane protein...      B   \n",
       "0      Stomatin is a 31 kDa integral membrane protein...      B   \n",
       "0      Stomatin is a 31 kDa integral membrane protein...      B   \n",
       "0      Stomatin is a 31 kDa integral membrane protein...      B   \n",
       "...                                                  ...    ...   \n",
       "35894  Bacterial growth in minimal medium (MM) and lu...      A   \n",
       "35894  Bacterial growth in minimal medium (MM) and lu...      A   \n",
       "35894  Bacterial growth in minimal medium (MM) and lu...      A   \n",
       "35894  Bacterial growth in minimal medium (MM) and lu...      A   \n",
       "35894  Bacterial growth in minimal medium (MM) and lu...      A   \n",
       "\n",
       "                                              recall_ids  \\\n",
       "0      https://en.wikipedia.org/wiki/Stomatin https:/...   \n",
       "0      https://en.wikipedia.org/wiki/Stomatin https:/...   \n",
       "0      https://en.wikipedia.org/wiki/Stomatin https:/...   \n",
       "0      https://en.wikipedia.org/wiki/Stomatin https:/...   \n",
       "0      https://en.wikipedia.org/wiki/Stomatin https:/...   \n",
       "...                                                  ...   \n",
       "35894  https://en.wikipedia.org/wiki/%CE%91r35%20RNA ...   \n",
       "35894  https://en.wikipedia.org/wiki/%CE%91r35%20RNA ...   \n",
       "35894  https://en.wikipedia.org/wiki/%CE%91r35%20RNA ...   \n",
       "35894  https://en.wikipedia.org/wiki/%CE%91r35%20RNA ...   \n",
       "35894  https://en.wikipedia.org/wiki/%CE%91r35%20RNA ...   \n",
       "\n",
       "                                             recall_text  \\\n",
       "0      Stomatin also known as human erythrocyte integ...   \n",
       "0      Stomatin also known as human erythrocyte integ...   \n",
       "0      Stomatin also known as human erythrocyte integ...   \n",
       "0      Stomatin also known as human erythrocyte integ...   \n",
       "0      SH3 and cysteine-rich domain-containing protei...   \n",
       "...                                                  ...   \n",
       "35894  Smaug is a RNA-binding protein in Drosophila t...   \n",
       "35894  Smaug is a RNA-binding protein in Drosophila t...   \n",
       "35894  Smaug is a RNA-binding protein in Drosophila t...   \n",
       "35894  Smaug is a RNA-binding protein in Drosophila t...   \n",
       "35894  Smaug is a RNA-binding protein in Drosophila t...   \n",
       "\n",
       "                                         recall_sentence  \n",
       "0      Stomatin also known as human erythrocyte integ...  \n",
       "0      of red blood cells and other cell types, where...  \n",
       "0      where it may regulate ion channels and transpo...  \n",
       "0      suggests a possible structural role for this p...  \n",
       "0      SH3 and cysteine-rich domain-containing protei...  \n",
       "...                                                  ...  \n",
       "35894  Smaug is a RNA-binding protein in Drosophila t...  \n",
       "35894  by maternal mRNAs like Hsp83, nanos, string, P...  \n",
       "35894  of three miRNAs – miR-3, miR-6, miR-309 and mi...  \n",
       "35894  recruiting a protein called Cup (an eIF4E-bind...  \n",
       "35894  homologs are SAMD4A and SAMD4B. References Ext...  \n",
       "\n",
       "[4002830 rows x 11 columns]"
      ]
     },
     "execution_count": 12,
     "metadata": {},
     "output_type": "execute_result"
    }
   ],
   "source": [
    "dev_df = dev_df.explode('recall_sentence')\n",
    "dev_df"
   ]
  },
  {
   "cell_type": "code",
   "execution_count": 13,
   "id": "651c0f2a-19ba-41ce-800d-879faa1766c6",
   "metadata": {
    "tags": []
   },
   "outputs": [],
   "source": [
    "dev_df = dev_df.fillna(\"\")"
   ]
  },
  {
   "cell_type": "code",
   "execution_count": null,
   "id": "6045b3b1-ac05-4e27-9db8-6ab8669dda5e",
   "metadata": {
    "scrolled": true,
    "tags": []
   },
   "outputs": [
    {
     "name": "stderr",
     "output_type": "stream",
     "text": [
      " 58%|█████▊    | 9050/15637 [5:29:44<4:02:35,  2.21s/it]"
     ]
    }
   ],
   "source": [
    "sentence_embeddings = get_model_feature(model, dev_df['recall_sentence'].values)"
   ]
  },
  {
   "cell_type": "code",
   "execution_count": null,
   "id": "4e5d4588-9bd8-442a-8f08-8be08631206e",
   "metadata": {
    "tags": []
   },
   "outputs": [],
   "source": [
    "dev_df.reset_index(drop=True, inplace=True)"
   ]
  },
  {
   "cell_type": "code",
   "execution_count": null,
   "id": "9110268e-805f-422f-b150-e7e214007465",
   "metadata": {},
   "outputs": [],
   "source": [
    "pred_final = []\n",
    "N_RECALLS = 3\n",
    "prompt_length = len(prompt_values)\n",
    "for idx in tqdm(range(prompt_length)):\n",
    "\n",
    "    query_text = prompt_values[idx]\n",
    "    query_embedding = topic_embedding_list[idx, :]\n",
    "    sentence_embeddings_index = dev_df[dev_df['question'] == query_text].index\n",
    "    cos_scores = util.cos_sim(query_embedding.cuda(), sentence_embeddings[sentence_embeddings_index].cuda())[0]\n",
    "    top_k = min([N_RECALLS, len(corpus_embeddings)])\n",
    "    top_results = torch.topk(cos_scores, k=top_k)\n",
    "    #print(top_results)\n",
    "    indics = top_results[1].cpu().numpy()\n",
    "    \n",
    "    pid = dev_df['recall_sentence'][sentence_embeddings_index[indics]]\n",
    "    pred_final.append('<new_recall_wiki_sep>'.join(pid))\n",
    "    "
   ]
  },
  {
   "cell_type": "code",
   "execution_count": null,
   "id": "d7209d66-68a2-4682-ba04-925a6dfefab7",
   "metadata": {
    "tags": []
   },
   "outputs": [],
   "source": [
    "len(pred_final)"
   ]
  },
  {
   "cell_type": "code",
   "execution_count": null,
   "id": "68af92cb-1b75-4f20-aa4a-5b0a8f424a06",
   "metadata": {
    "tags": []
   },
   "outputs": [],
   "source": [
    "final_res['recall_info'] = pred_final"
   ]
  },
  {
   "cell_type": "code",
   "execution_count": 112,
   "id": "9d788a57-c1b6-4b79-9d6c-263255209dbd",
   "metadata": {
    "tags": []
   },
   "outputs": [
    {
     "data": {
      "text/plain": [
       "['conditions are not verified? if we assume or , we get the following differential equation (it has the same form in both cases, we will use only the notation of the temporal soliton): This equation has soliton-like solutions. For the first order (N = 1): The plot of is shown in the picture on the right. For higher order solitons () we can use the following closed form expression: It is a soliton, in the sense that it propagates without changing its shape, but it is not made by a normal pulse; rather, it is a lack of energy in a continuous time beam. The intensity is constant, but for a short time during which it jumps to zero and back again, thus generating a \"dark pulse\"\\'. Those',\n",
       " 'In optics, the term soliton is used to refer to any optical field that does not change during propagation because of a delicate balance between nonlinear and linear effects in the medium. There are two main kinds of solitons: spatial solitons: the nonlinear effect can balance the diffraction. The electromagnetic field can change the refractive index of the medium while propagating, thus creating a structure similar to a graded-index fiber. If the field is also a propagating mode of the guide it has created, then it will remain confined and it will propagate without changing its shape temporal solitons: if the electromagnetic field is already spatially confined, it is possible to send pulses that will not change their shape because the nonlinear effects will balance the dispersion. Those',\n",
       " \"of matter. In 2019, researchers from Tel-Aviv university measured an accelerating surface gravity water wave soliton by using an external hydrodynamic linear potential. They also managed to excite ballistic solitons and measure their corresponding phases. In fiber optics Much experimentation has been done using solitons in fiber optics applications. Solitons in a fiber optic system are described by the Manakov equations. Solitons' inherent stability make long-distance transmission possible without the use of repeaters, and could potentially double transmission capacity as well. In biology Solitons may occur in proteins and DNA. Solitons are related to the low-frequency collective motion in proteins and DNA. A recently developed model in neuroscience proposes that signals, in the form of density waves, are conducted within neurons in the form of solitons. Solitons can\"]"
      ]
     },
     "execution_count": 112,
     "metadata": {},
     "output_type": "execute_result"
    }
   ],
   "source": [
    "final_res.to_csv(f'{final_name}_with_retrive.csv', index=None)"
   ]
  },
  {
   "cell_type": "code",
   "execution_count": null,
   "id": "7dfe136a-37c9-4bbb-ba73-612f7d665b55",
   "metadata": {},
   "outputs": [],
   "source": []
  }
 ],
 "metadata": {
  "kernelspec": {
   "display_name": "Python 3 (ipykernel)",
   "language": "python",
   "name": "python3"
  },
  "language_info": {
   "codemirror_mode": {
    "name": "ipython",
    "version": 3
   },
   "file_extension": ".py",
   "mimetype": "text/x-python",
   "name": "python",
   "nbconvert_exporter": "python",
   "pygments_lexer": "ipython3",
   "version": "3.8.10"
  }
 },
 "nbformat": 4,
 "nbformat_minor": 5
}
