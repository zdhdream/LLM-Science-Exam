{
 "cells": [
  {
   "cell_type": "code",
   "execution_count": 1,
   "id": "9a5d8282-fcd9-48b1-9654-8ae468a40dc3",
   "metadata": {
    "tags": []
   },
   "outputs": [
    {
     "name": "stdout",
     "output_type": "stream",
     "text": [
      "tokenizers.__version__: 0.13.3\n",
      "transformers.__version__: 4.32.0\n"
     ]
    },
    {
     "name": "stderr",
     "output_type": "stream",
     "text": [
      "Found cached dataset parquet (/root/.cache/huggingface/datasets/parquet/default-8fbfeb4bcfeca33a/0.0.0/2a3b91fbd88a2c90d1dbbb32b460cf621d31bd5b05b934492fdef7d8d6f236ec)\n",
      "  0%|          | 0/141 [00:00<?, ?it/s]Truncation was not explicitly activated but `max_length` is provided a specific value, please use `truncation=True` to explicitly truncate examples to max length. Defaulting to 'longest_first' truncation strategy. If you encode pairs of sequences (GLUE-style) with the tokenizer you can select this strategy more precisely by providing a specific strategy to `truncation`.\n",
      "You're using a MPNetTokenizerFast tokenizer. Please note that with a fast tokenizer, using the `__call__` method is faster than using a method to encode the text followed by a call to the `pad` method to get a padded encoding.\n",
      "100%|██████████| 141/141 [04:47<00:00,  2.04s/it]"
     ]
    },
    {
     "name": "stdout",
     "output_type": "stream",
     "text": [
      "question embedding done\n",
      "torch.Size([35895, 768])\n",
      "content embedding done\n",
      "torch.Size([131049, 768])\n"
     ]
    },
    {
     "name": "stderr",
     "output_type": "stream",
     "text": [
      "\n"
     ]
    }
   ],
   "source": [
    "TOP_K = 5\n",
    "N_RECALLS = 10\n",
    "MAX_SEQ_LEN = 512\n",
    "\n",
    "\n",
    "MODEL_NAME = \"output_simcse_model\"\n",
    "\n",
    "import warnings\n",
    "warnings.simplefilter('ignore')\n",
    "\n",
    "import os\n",
    "import re\n",
    "import gc\n",
    "import sys\n",
    "import multiprocessing\n",
    "\n",
    "import numpy as np\n",
    "import pandas as pd\n",
    "pd.set_option('display.max_columns', None)\n",
    "from tqdm.auto import tqdm\n",
    "from copy import deepcopy\n",
    "import torch\n",
    "\n",
    "from sentence_transformers import SentenceTransformer\n",
    "from sentence_transformers import util\n",
    "import tokenizers\n",
    "import transformers\n",
    "print(f\"tokenizers.__version__: {tokenizers.__version__}\")\n",
    "print(f\"transformers.__version__: {transformers.__version__}\")\n",
    "from transformers import AutoTokenizer, AutoModel, AutoConfig\n",
    "import torch.nn as nn\n",
    "from torch.nn import Parameter\n",
    "import torch.nn.functional as F\n",
    "from torch.optim import Adam, SGD, AdamW\n",
    "from torch.optim import lr_scheduler\n",
    "from torch.utils.data import DataLoader, Dataset\n",
    "from transformers import get_cosine_schedule_with_warmup, DataCollatorWithPadding\n",
    "from sklearn.model_selection import train_test_split\n",
    "from datasets import load_dataset\n",
    "from pathlib import Path\n",
    "# 加载数据\n",
    "\n",
    "DATA_DIR = './learning-equality-curriculum-recommendations'\n",
    "\n",
    "# 验证集 topic_id\n",
    "#final_name = './external_train_data/stem_dataset_gpt4.csv'\n",
    "df = pd.read_csv('data/ext-data/retrive_dataset.csv')\n",
    "dev_ids = np.load('data/ext-data/dev_id.npy',allow_pickle=True)\n",
    "dev_df =  df[df['url'].isin(dev_ids)]\n",
    "#dev_df = pd.read_csv(final_name)\n",
    "dev_df.reset_index(drop=True, inplace=True)\n",
    "final_res = deepcopy(dev_df)\n",
    "files = list(map(str, Path(\"./wiki_sci\").glob(\"*.parquet\")))\n",
    "ds = load_dataset(\"parquet\", data_files=files, split=\"train\")\n",
    "content_df = pd.DataFrame(ds)\n",
    "# 加载预训练模型\n",
    "\n",
    "# ====================================================\n",
    "# Model\n",
    "# ====================================================\n",
    "class MeanPooling(nn.Module):\n",
    "    def __init__(self):\n",
    "        super(MeanPooling, self).__init__()\n",
    "\n",
    "    def forward(self, last_hidden_state, attention_mask):\n",
    "        input_mask_expanded = attention_mask.unsqueeze(-1).expand(last_hidden_state.size()).float()\n",
    "        sum_embeddings = torch.sum(last_hidden_state * input_mask_expanded, 1)\n",
    "        sum_mask = input_mask_expanded.sum(1)\n",
    "        sum_mask = torch.clamp(sum_mask, min=1e-9)\n",
    "        mean_embeddings = sum_embeddings / sum_mask\n",
    "        return mean_embeddings\n",
    "\n",
    "class WeightedLayerPooling(nn.Module):\n",
    "    def __init__(self, num_hidden_layers, layer_start: int = 4, layer_weights=None):\n",
    "        super(WeightedLayerPooling, self).__init__()\n",
    "        self.layer_start = layer_start\n",
    "        self.num_hidden_layers = num_hidden_layers\n",
    "        self.layer_weights = layer_weights if layer_weights is not None \\\n",
    "            else nn.Parameter(\n",
    "            torch.tensor([1] * (num_hidden_layers + 1 - layer_start), dtype=torch.float)\n",
    "        )\n",
    "\n",
    "    def forward(self, all_hidden_states):\n",
    "        all_layer_embedding = all_hidden_states[self.layer_start:, :, :, :]\n",
    "        weight_factor = self.layer_weights.unsqueeze(-1).unsqueeze(-1).unsqueeze(-1).expand(all_layer_embedding.size())\n",
    "        weighted_average = (weight_factor * all_layer_embedding).sum(dim=0) / self.layer_weights.sum()\n",
    "        return weighted_average\n",
    "\n",
    "class CustomModel(nn.Module):\n",
    "    def __init__(self, cfg, config_path=None, pretrained=False):\n",
    "        super().__init__()\n",
    "        self.cfg = cfg\n",
    "        if config_path is None:\n",
    "            self.config = AutoConfig.from_pretrained(cfg.model, output_hidden_states=True)\n",
    "            # self.config.hidden_dropout = 0.\n",
    "            # self.config.hidden_dropout_prob = 0.\n",
    "            # self.config.attention_dropout = 0.\n",
    "            # self.config.attention_probs_dropout_prob = 0.\n",
    "        else:\n",
    "            self.config = torch.load(config_path)\n",
    "\n",
    "        if pretrained:\n",
    "            self.model = AutoModel.from_pretrained(cfg.model, config=self.config)\n",
    "        else:\n",
    "            self.model = AutoModel.from_config(self.config)\n",
    "        # if self.cfg.gradient_checkpointing:\n",
    "        #     self.model.gradient_checkpointing_enable\n",
    "\n",
    "        self.pool = MeanPooling()\n",
    "        self.fc_dropout = nn.Dropout(0.1)\n",
    "        self.fc = nn.Linear(self.config.hidden_size, 1)\n",
    "        self._init_weights(self.fc)\n",
    "\n",
    "    def _init_weights(self, module):\n",
    "        if isinstance(module, nn.Linear):\n",
    "            module.weight.data.normal_(mean=0.0, std=self.config.initializer_range)\n",
    "            if module.bias is not None:\n",
    "                module.bias.data.zero_()\n",
    "        elif isinstance(module, nn.Embedding):\n",
    "            module.weight.data.normal_(mean=0.0, std=self.config.initializer_range)\n",
    "            if module.padding_idx is not None:\n",
    "                module.weight.data[module.padding_idx].zero_()\n",
    "        elif isinstance(module, nn.LayerNorm):\n",
    "            module.bias.data.zero_()\n",
    "            module.weight.data.fill_(1.0)\n",
    "\n",
    "    def forward(self, inputs):\n",
    "        outputs = self.model(**inputs)\n",
    "        last_hidden_states = outputs[0]\n",
    "        feature = self.pool(last_hidden_states, inputs['attention_mask'])\n",
    "        #feature = F.normalize(feature, p=2, dim=1)\n",
    "        return feature\n",
    "\n",
    "#tokenizer = AutoTokenizer.from_pretrained(MODEL_NAME)\n",
    "model = 'sentence-transformers/all-mpnet-base-v1'\n",
    "tokenizer = AutoTokenizer.from_pretrained(model)\n",
    "\n",
    "model = CustomModel(cfg=None, config_path=MODEL_NAME + '/config.pth', pretrained=False)\n",
    "state = torch.load(MODEL_NAME + '/sentence-transformers-all-mpnet-base-v1_fold0_best.pth',\n",
    "                   map_location=torch.device('cpu'))\n",
    "model.load_state_dict(state['model'])\n",
    "\n",
    "device = torch.device('cuda:1') if torch.cuda.device_count() > 1 else torch.device('cuda:0')\n",
    "model.eval()\n",
    "model.to(device)\n",
    "\n",
    "\n",
    "class TestDataset(Dataset):\n",
    "    def __init__(self, texts):\n",
    "        self.texts = texts\n",
    "\n",
    "    def __len__(self):\n",
    "        return len(self.texts)\n",
    "\n",
    "    def __getitem__(self, item):\n",
    "        text = self.texts[item]\n",
    "        # text = self.texts[item].replace('[SEP]', '</s>')\n",
    "        inputs = tokenizer(text,\n",
    "                           max_length=512,\n",
    "                           pad_to_max_length=True,\n",
    "                           add_special_tokens=True,\n",
    "                           return_offsets_mapping=False)\n",
    "\n",
    "        for k, v in inputs.items():\n",
    "            inputs[k] = torch.tensor(v, dtype=torch.long)\n",
    "        return inputs\n",
    "\n",
    "def get_model_feature(model, texts):\n",
    "    feature_outs_all = []\n",
    "    test_dataset = TestDataset(texts)\n",
    "    test_loader = DataLoader(test_dataset,\n",
    "                             batch_size=256,\n",
    "                             shuffle=False,\n",
    "                             collate_fn=DataCollatorWithPadding(tokenizer=tokenizer, padding='longest'),\n",
    "                             num_workers=0, pin_memory=True, drop_last=False)\n",
    "\n",
    "    # tk0 = tqdm(test_loader, total=len(test_loader))\n",
    "    for inputs in tqdm(test_loader):\n",
    "        for k, v in inputs.items():\n",
    "            inputs[k] = v.to(device)\n",
    "        with torch.no_grad():\n",
    "            feature_outs = model(inputs)\n",
    "            feature_outs_all.append(feature_outs.cpu())\n",
    "\n",
    "    feature_outs_all_final = torch.cat(feature_outs_all, dim=0)\n",
    "    #print(feature_outs_all_final.shape)\n",
    "\n",
    "    return feature_outs_all_final\n",
    "\n",
    "\n",
    "\n",
    "\n",
    "topic_embedding_list = get_model_feature(model, dev_df['prompt'].values)\n",
    "print('question embedding done')\n",
    "print(topic_embedding_list.shape)\n",
    "corpus_embeddings = torch.as_tensor(np.load('text_embedding.npy')) #get_model_feature(model, content_df['text'].values)\n",
    "print('content embedding done')\n",
    "print(corpus_embeddings.shape)\n"
   ]
  },
  {
   "cell_type": "code",
   "execution_count": 66,
   "id": "54369dd7-30d9-4d49-bf56-7148958a42a9",
   "metadata": {
    "tags": []
   },
   "outputs": [],
   "source": [
    "#corpus_embeddings = torch.as_tensor(np.load('text_embedding.npy')).to('cuda')"
   ]
  },
  {
   "cell_type": "code",
   "execution_count": 2,
   "id": "fa92c48f-e2d2-4c1f-948d-66c943bf02f2",
   "metadata": {
    "tags": []
   },
   "outputs": [],
   "source": [
    "#np.save('text_embedding', corpus_embeddings.cpu().numpy())"
   ]
  },
  {
   "cell_type": "code",
   "execution_count": 3,
   "id": "71518878-df38-4668-83e8-9d467b3d198c",
   "metadata": {
    "tags": []
   },
   "outputs": [],
   "source": [
    "#content_df.to_csv('wiki_sci_text.csv', index=None)"
   ]
  },
  {
   "cell_type": "code",
   "execution_count": 3,
   "id": "e9f3b45a-0a86-4af2-a85b-ef53ac9e7d78",
   "metadata": {
    "scrolled": true,
    "tags": []
   },
   "outputs": [
    {
     "name": "stderr",
     "output_type": "stream",
     "text": [
      "100%|██████████| 35895/35895 [18:26<00:00, 32.45it/s]\n"
     ]
    }
   ],
   "source": [
    "N_RECALLS= 10\n",
    "pred_final = []\n",
    "pred_text = []\n",
    "for idx, row in tqdm(dev_df.iterrows(), total=len(dev_df)):\n",
    "\n",
    "    query_embedding = topic_embedding_list[idx, :]\n",
    "\n",
    "    cos_scores = util.cos_sim(query_embedding.cuda(), corpus_embeddings.cuda())[0]\n",
    "    top_k = min([N_RECALLS, len(corpus_embeddings)])\n",
    "    top_results = torch.topk(cos_scores, k=top_k)\n",
    "    #print(top_results)\n",
    "    indics = top_results[1].cpu().numpy()\n",
    "\n",
    "    # threshold = 0.8\n",
    "    # score_top = top_results[0].cpu().numpy()\n",
    "    # in_use = np.where(score_top > threshold)\n",
    "    # indics = indics[in_use]\n",
    "\n",
    "    #pid = content_dict[lang]['id'][indics]\n",
    "    pid = content_df['url'][indics]\n",
    "    pred_final.append(' '.join(pid))\n",
    "    \n",
    "    pid = content_df['text'][indics]\n",
    "    pred_text.append('<recall_wiki_text>'.join(pid))\n",
    "\n",
    "dev_df['recall_ids'] = pred_final\n",
    "dev_df['recall_text'] = pred_text\n"
   ]
  },
  {
   "cell_type": "code",
   "execution_count": 4,
   "id": "0263b4fc-913a-403a-83aa-3538ca6bb47f",
   "metadata": {
    "tags": []
   },
   "outputs": [],
   "source": [
    "prompt_values = dev_df['prompt'].values.tolist()"
   ]
  },
  {
   "cell_type": "code",
   "execution_count": 5,
   "id": "62741e96-fb26-49d9-b2dd-17b3f93734bb",
   "metadata": {
    "tags": []
   },
   "outputs": [
    {
     "data": {
      "text/plain": [
       "35895"
      ]
     },
     "execution_count": 5,
     "metadata": {},
     "output_type": "execute_result"
    }
   ],
   "source": [
    "len(dev_df)"
   ]
  },
  {
   "cell_type": "code",
   "execution_count": 6,
   "id": "a94c14be-fabb-465f-a21a-040ab08fcea0",
   "metadata": {
    "tags": []
   },
   "outputs": [],
   "source": [
    "# 算分环节\n",
    "dev_df['recall_ids'] = pred_final\n",
    "df_metric = dev_df.copy()\n",
    "df_metric['content_ids'] = df_metric['url']"
   ]
  },
  {
   "cell_type": "code",
   "execution_count": 7,
   "id": "21936112-a486-427a-8379-50e09807ff82",
   "metadata": {
    "tags": []
   },
   "outputs": [],
   "source": [
    "def get_pos_score(y_true, y_pred, top_n):\n",
    "    y_true = y_true.apply(lambda x: set(x.split()))\n",
    "    y_pred = y_pred.apply(lambda x: set(x.split()[:top_n]))\n",
    "    int_true = np.array([len(x[0] & x[1]) / len(x[0]) for x in zip(y_true, y_pred)])\n",
    "    return round(np.mean(int_true), 5)\n",
    "\n",
    "pos_score = get_pos_score(df_metric['content_ids'], df_metric['recall_ids'], 50)\n",
    "print(f'Our max positive score top 50 is {pos_score}')\n",
    "\n",
    "pos_score = get_pos_score(df_metric['content_ids'], df_metric['recall_ids'], 70)\n",
    "print(f'Our max positive score top 70 is {pos_score}')\n",
    "\n",
    "pos_score = get_pos_score(df_metric['content_ids'], df_metric['recall_ids'], 100)\n",
    "print(f'Our max positive score top 100 is {pos_score}')\n",
    "\n",
    "pos_score = get_pos_score(df_metric['content_ids'], df_metric['recall_ids'], 150)\n",
    "print(f'Our max positive score top 150 is {pos_score}')\n",
    "\n",
    "pos_score = get_pos_score(df_metric['content_ids'], df_metric['recall_ids'], 200)\n",
    "print(f'Our max positive score top 200 is {pos_score}')\n",
    "\n",
    "df_metric['content_ids'] = df_metric['content_ids'].astype(str).apply(lambda x: x.split())\n",
    "df_metric['recall_ids'] = df_metric['recall_ids'].astype(str).apply(lambda x: x.split())\n",
    "f2_scores = []\n",
    "\n",
    "N_RECALLS = [3, 5, 10, 30, 50, 100, 200, 300, 400, 500, 600]\n",
    "N_TOP_F2 = [5, 10, 15]\n",
    "# for n_top in N_TOP_F2:\n",
    "#     for _, row in tqdm(df_metric.iterrows(), total=len(df_metric)):\n",
    "#         true_ids = set(row['content_ids'])\n",
    "#         pred_ids = set(row['recall_ids'][:n_top])\n",
    "#         tp = len(true_ids.intersection(pred_ids))\n",
    "#         fp = len(pred_ids - true_ids)\n",
    "#         fn = len(true_ids - pred_ids)\n",
    "#         if pred_ids:\n",
    "#             precision = tp / (tp + fp)\n",
    "#             recall = tp / (tp + fn)\n",
    "#             f2 = tp / (tp + 0.2 * fp + 0.8 * fn)\n",
    "#         else:\n",
    "#             f2 = 0\n",
    "#         f2_scores.append(f2)\n",
    "#     print(f'Average F2@{n_top}:', np.mean(f2_scores))\n",
    "for n_recall in N_RECALLS:\n",
    "    total = 0\n",
    "    correct = 0\n",
    "    for _, row in tqdm(df_metric.iterrows(), total=len(df_metric)):\n",
    "        y_trues = row['content_ids']\n",
    "        y_preds = row['recall_ids'][:n_recall]\n",
    "        for y_true in y_trues:\n",
    "            total += 1\n",
    "            if y_true in y_preds:\n",
    "                correct += 1\n",
    "    print(f'hitrate@{n_recall}:', correct/total)"
   ]
  },
  {
   "cell_type": "code",
   "execution_count": null,
   "id": "7dfe136a-37c9-4bbb-ba73-612f7d665b55",
   "metadata": {},
   "outputs": [],
   "source": []
  }
 ],
 "metadata": {
  "kernelspec": {
   "display_name": "Python 3 (ipykernel)",
   "language": "python",
   "name": "python3"
  },
  "language_info": {
   "codemirror_mode": {
    "name": "ipython",
    "version": 3
   },
   "file_extension": ".py",
   "mimetype": "text/x-python",
   "name": "python",
   "nbconvert_exporter": "python",
   "pygments_lexer": "ipython3",
   "version": "3.9.15"
  }
 },
 "nbformat": 4,
 "nbformat_minor": 5
}
